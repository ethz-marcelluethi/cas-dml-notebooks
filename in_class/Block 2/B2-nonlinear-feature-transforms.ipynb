{
 "cells": [
  {
   "cell_type": "markdown",
   "id": "1136f4a3",
   "metadata": {},
   "source": [
    "# Nonlinear feature transformation\n",
    "\n",
    "Note this notebook is not meant as a didactic notebook for you to learn. It just contains the code for the feature transformation demo that was shown in the lecture. There is no need for you to understand the code. "
   ]
  },
  {
   "cell_type": "code",
   "execution_count": null,
   "id": "9b2fa732-f11e-4b58-a4c1-c4ba64bdf1c4",
   "metadata": {},
   "outputs": [],
   "source": [
    "import numpy as np\n",
    "import scipy.stats as stats\n",
    "import matplotlib.pyplot as plt\n",
    "import math"
   ]
  },
  {
   "cell_type": "markdown",
   "id": "e3fa65dd",
   "metadata": {},
   "source": [
    "Generating data"
   ]
  },
  {
   "cell_type": "code",
   "execution_count": null,
   "id": "9d5a7f63-91ea-476d-92f1-1a2e676aa957",
   "metadata": {},
   "outputs": [],
   "source": [
    "np.random.seed(42)\n",
    "beta = 0.2\n",
    "\n",
    "xs = np.array([-1.0, -0.9, 0.85, -0.8, -0.75, -0.1, 0.1, 0.2, 0.3, 0.5, 0.8, 0.9, 1.0])\n",
    "def true_fun(xs): \n",
    "    return np.sin(2 * math.pi * xs) + 1\n",
    "\n",
    "ys = true_fun(xs) + stats.norm(0, beta).rvs(len(xs))"
   ]
  },
  {
   "cell_type": "code",
   "execution_count": null,
   "id": "82a18e82-2e8e-42ca-9238-6d35eca9868b",
   "metadata": {},
   "outputs": [],
   "source": [
    "plt.plot(xs, ys, 'o')\n",
    "\n",
    "x_values = np.linspace(-1, 1, 200)  \n",
    "plt.plot(x_values,true_fun(x_values), '--r', label=\"ground truth\")\n",
    "  \n",
    "plt.ylim([-2,4])"
   ]
  },
  {
   "cell_type": "markdown",
   "id": "4de1b2db",
   "metadata": {},
   "source": [
    "The following two functions are used to solve the regression and to plot the solution.  "
   ]
  },
  {
   "cell_type": "code",
   "execution_count": null,
   "id": "2de4e707-bab2-4f02-988b-0e34245420f2",
   "metadata": {},
   "outputs": [],
   "source": [
    "\n",
    "def solve_regression(transformation_functions, xs, ys):\n",
    "    \"\"\" takes a list of transformation_functions as well as the training data (xs, ys) and solves the \n",
    "        corresponding regression problem using the normal equation \"\"\"\n",
    "    m = len(transformation_functions)\n",
    "    \n",
    "    # Matrix containing the basis functions evaluated at the input points\n",
    "    Phi = np.zeros((len(xs), m))  \n",
    "    for j in range(0, m):\n",
    "        Phi[:,j] = transformation_functions[j](xs)\n",
    "        \n",
    "    # small additional regularization term to improve numerical stability\n",
    "    reg = 1e-10 * np.eye(len(transformation_functions))\n",
    "    w = np.linalg.inv(Phi.transpose() @ Phi + reg) @ Phi.transpose()\n",
    "\n",
    "    return w @ ys"
   ]
  },
  {
   "cell_type": "markdown",
   "id": "0f1a7be2",
   "metadata": {},
   "source": [
    "This function visualizes the solution"
   ]
  },
  {
   "cell_type": "code",
   "execution_count": null,
   "id": "93a44531-c133-48f1-99b1-a6962dd26605",
   "metadata": {},
   "outputs": [],
   "source": [
    "def plot_solution(w, transformation_functions, xs, ys, show_basis = True, show_gt = True):\n",
    "    \"\"\"\n",
    "    plots the basis function and the solutions for the (fitted) parameters w.\n",
    "    xs and ys contain the data. \n",
    "    The parameter show_gt and show_basis determine whether the ground truth \n",
    "    and basis functions are plotted. \n",
    "    \"\"\"\n",
    "    # plot in the interval -1, 1\n",
    "    x_values = np.linspace(-1, 1, 200)\n",
    "    y_values = np.zeros(len(xs))\n",
    "    \n",
    "    # Compute the solution\n",
    "    Phi = np.zeros((len(x_values), len(transformation_functions)))\n",
    "    for j in range(0, len(transformation_functions)):\n",
    "        Phi[:,j] = transformation_functions[j](x_values)\n",
    "    y_values = Phi @ w\n",
    "    \n",
    "    # Plot the best prediction\n",
    "    plt.plot(xs, ys, 'o')    \n",
    "    plt.plot(x_values, y_values, 'k', label=\"predicted\")\n",
    "\n",
    "    \n",
    "    # Plot the basis fucntions\n",
    "    if show_basis:\n",
    "        for j in range(0, len(transformation_functions)):\n",
    "            plt.plot(x_values, transformation_functions[j](x_values) * w[j], ':', color=\"grey\")\n",
    "  \n",
    "    if show_gt:\n",
    "        plt.plot(x_values,true_fun(x_values), '--r', label=\"ground truth\")\n",
    "    \n",
    "    plt.xlabel(\"X\")\n",
    "    plt.ylabel(\"Y\")\n",
    "    plt.ylim([-2, 4])\n",
    "    plt.legend()"
   ]
  },
  {
   "cell_type": "markdown",
   "id": "38e54140",
   "metadata": {},
   "source": [
    "Polynomials up to degree m "
   ]
  },
  {
   "cell_type": "code",
   "execution_count": null,
   "id": "6e852a90-d3cc-4e0c-9a65-8de75326f4de",
   "metadata": {},
   "outputs": [],
   "source": [
    "m = 0\n",
    "basis_functions = [lambda x, i=i : np.power(x, i) for i in list(range(0,m+1))]\n",
    "ws = solve_regression(basis_functions, xs, ys)\n",
    "plot_solution(ws, basis_functions, xs, ys, show_gt = True)"
   ]
  },
  {
   "cell_type": "markdown",
   "id": "3e2d7194",
   "metadata": {},
   "source": [
    "Sigmoid functions"
   ]
  },
  {
   "cell_type": "code",
   "execution_count": null,
   "id": "bad4309a",
   "metadata": {},
   "outputs": [],
   "source": [
    "m = 4\n",
    "basis_functions = \\\n",
    "  [lambda x, i=i : 1 / (1 + np.exp(-(x-i)/0.02)) for i in np.linspace(-1,1,m)]\n",
    "ws = solve_regression(basis_functions, xs, ys)\n",
    "plot_solution(ws, basis_functions, xs, ys, show_gt = True)\n"
   ]
  },
  {
   "cell_type": "markdown",
   "id": "9734f6e9",
   "metadata": {},
   "source": [
    "\n",
    "Radial basis functions"
   ]
  },
  {
   "cell_type": "code",
   "execution_count": null,
   "id": "f3d03981-7cd0-4be5-918a-7e88b3591142",
   "metadata": {},
   "outputs": [],
   "source": [
    "s = 0.1\n",
    "basis_functions = [lambda x, mu=mu : np.exp(-np.power(x-mu, 2)/s) for mu in xs ]\n",
    "ws = solve_regression(basis_functions, xs, ys)\n",
    "plot_solution(ws, basis_functions, xs, ys, show_gt = True)"
   ]
  }
 ],
 "metadata": {
  "kernelspec": {
   "display_name": "Python 3",
   "language": "python",
   "name": "python3"
  },
  "language_info": {
   "codemirror_mode": {
    "name": "ipython",
    "version": 3
   },
   "file_extension": ".py",
   "mimetype": "text/x-python",
   "name": "python",
   "nbconvert_exporter": "python",
   "pygments_lexer": "ipython3",
   "version": "3.10.11"
  }
 },
 "nbformat": 4,
 "nbformat_minor": 5
}
