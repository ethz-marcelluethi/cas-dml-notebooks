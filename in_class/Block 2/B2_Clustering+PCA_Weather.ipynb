{
 "cells": [
  {
   "cell_type": "markdown",
   "metadata": {
    "id": "JksD94HlnOps"
   },
   "source": [
    "# Clustern and Dimensionality Reduction on Weather Data from Zurich"
   ]
  },
  {
   "cell_type": "markdown",
   "metadata": {
    "id": "yX-rmoAALaG_"
   },
   "source": [
    "## Preparations\n",
    "We first load the relevant libraries:"
   ]
  },
  {
   "cell_type": "code",
   "execution_count": null,
   "metadata": {
    "id": "cKrM38tNJPUr"
   },
   "outputs": [],
   "source": [
    "import numpy as np\n",
    "import pandas as pd\n",
    "import matplotlib.pyplot as plt\n",
    "import matplotlib.cm as cm\n",
    "from sklearn.preprocessing import StandardScaler\n",
    "from sklearn.preprocessing import RobustScaler\n",
    "from sklearn.decomposition import PCA\n",
    "from sklearn.cluster import KMeans"
   ]
  },
  {
   "cell_type": "markdown",
   "metadata": {
    "id": "9mHQ57eZKXxQ"
   },
   "source": [
    "The weather data openly available from the city of Zurich [https://data.stadt-zuerich.ch](https://data.stadt-zuerich.ch) . We directly download them into a Pandas DataFrame:"
   ]
  },
  {
   "cell_type": "code",
   "execution_count": null,
   "metadata": {
    "colab": {
     "base_uri": "https://localhost:8080/",
     "height": 712
    },
    "id": "Hm6N6ex4HpYQ",
    "outputId": "277515f4-5b63-4c8a-e2fa-9d0d85bde453"
   },
   "outputs": [],
   "source": [
    "weather_data = pd.read_csv(\"https://data.stadt-zuerich.ch/dataset/ugz_meteodaten_stundenmittelwerte/download/ugz_ogd_meteo_h1_2023.csv\")\n",
    "weather_data.head(20)"
   ]
  },
  {
   "cell_type": "markdown",
   "metadata": {},
   "source": [
    "We will focus on the data from the site `Zch_Stampfenbachstrasse`, which is close to the ETH main building:"
   ]
  },
  {
   "cell_type": "code",
   "execution_count": null,
   "metadata": {},
   "outputs": [],
   "source": [
    "wd_rel = weather_data[ weather_data['Standort']=='Zch_Stampfenbachstrasse']\n",
    "wdp = wd_rel.pivot(index = ['Datum', 'Standort'], columns = 'Parameter', values = 'Wert')\n",
    "wdp.head()"
   ]
  },
  {
   "cell_type": "markdown",
   "metadata": {},
   "source": [
    "We see that there is one set of records every hour."
   ]
  },
  {
   "cell_type": "code",
   "execution_count": null,
   "metadata": {},
   "outputs": [],
   "source": [
    "wdp.describe()"
   ]
  },
  {
   "cell_type": "markdown",
   "metadata": {},
   "source": [
    "For simplicity, we limit ourselves to the five attributes humidity, rain duration, temperature, wind speed, and air pressure by dropping the other attributes, and renaming the column to the English terms:"
   ]
  },
  {
   "cell_type": "code",
   "execution_count": null,
   "metadata": {},
   "outputs": [],
   "source": [
    "X = wdp.reset_index().drop(['Datum', 'Standort', 'StrGlo', 'WD', 'WVv'], axis=1).dropna().\\\n",
    "    rename(columns={'Hr': 'Humidity', 'RainDur': 'RainDuration', 'T': 'Temperature', 'WVs': 'WindSpeed', 'p': 'AirPressure'})"
   ]
  },
  {
   "cell_type": "code",
   "execution_count": null,
   "metadata": {},
   "outputs": [],
   "source": [
    "X.describe()"
   ]
  },
  {
   "cell_type": "markdown",
   "metadata": {},
   "source": [
    "## Clustering with K-Means\n",
    "To identify typical weather situations, we apply the k-Means clustering algorithm to the standardized data. In preparation, we first need to scale the data:"
   ]
  },
  {
   "cell_type": "markdown",
   "metadata": {},
   "source": [
    "### Standardize data\n",
    "In preparation, we standardize the data."
   ]
  },
  {
   "cell_type": "code",
   "execution_count": null,
   "metadata": {
    "id": "4JsbzP7Ndh4z"
   },
   "outputs": [],
   "source": [
    "scaler = StandardScaler()\n",
    "X_scaled = scaler.fit_transform(X)"
   ]
  },
  {
   "cell_type": "markdown",
   "metadata": {},
   "source": [
    "### Clustering data with K-Means: K=4\n",
    "We choose (for no particular reason) K=4:"
   ]
  },
  {
   "cell_type": "code",
   "execution_count": null,
   "metadata": {
    "colab": {
     "base_uri": "https://localhost:8080/",
     "height": 75
    },
    "id": "rDMg8d-da_4R",
    "outputId": "1a461e50-19d8-4929-8a38-cc22f50a592d"
   },
   "outputs": [],
   "source": [
    "kmeans4 = KMeans(n_clusters=4, n_init=30, random_state=42)\n",
    "kmeans4.fit(X_scaled)"
   ]
  },
  {
   "cell_type": "markdown",
   "metadata": {
    "id": "enwOkjeTUxYc"
   },
   "source": [
    "#### Cluster centers\n",
    "We want to try to understand the clusters, i.e. to identify the corresponding weather situations. To do this, we transform the `cluster_centers_` back to their original sizes, i.e. we undo the scaling with the function `scaler.inverse_transform(...)`. We also add the original attribute names back:"
   ]
  },
  {
   "cell_type": "code",
   "execution_count": null,
   "metadata": {
    "id": "Mf3LcKSuYtth"
   },
   "outputs": [],
   "source": [
    "centroids4 = kmeans4.cluster_centers_\n",
    "\n",
    "# reverse transformation\n",
    "centroids4_original = scaler.inverse_transform(centroids4)\n",
    "\n",
    "# Add the original column names to interpret the centroids\n",
    "centroids4_df = pd.DataFrame(centroids4_original, columns=X.columns)"
   ]
  },
  {
   "cell_type": "code",
   "execution_count": null,
   "metadata": {
    "colab": {
     "base_uri": "https://localhost:8080/",
     "height": 211
    },
    "id": "FPoo4dkEawzt",
    "outputId": "5d29f081-2b64-41f6-8a67-d770f3c37f50",
    "scrolled": true
   },
   "outputs": [],
   "source": [
    "centroids4_df"
   ]
  },
  {
   "cell_type": "markdown",
   "metadata": {},
   "source": [
    "We also query the number of data points per cluster:"
   ]
  },
  {
   "cell_type": "code",
   "execution_count": null,
   "metadata": {
    "colab": {
     "base_uri": "https://localhost:8080/"
    },
    "id": "_ptVzo6IrIOr",
    "outputId": "bfd2be80-8650-45a8-8a0c-476c417a7913",
    "scrolled": true
   },
   "outputs": [],
   "source": [
    "pd.Series(kmeans4.labels_).value_counts()"
   ]
  },
  {
   "cell_type": "markdown",
   "metadata": {
    "id": "NUmWWw7lqUy7"
   },
   "source": [
    "#### Interpretation of the clusters\n",
    "\n",
    "**EXERCISE**: Interprete the cluster centers. To which weather situations do they correspond?"
   ]
  },
  {
   "cell_type": "markdown",
   "metadata": {},
   "source": [
    "### Clustering data with K-Means: K=5\n",
    "For comparison, we also run k-Means with K=5:"
   ]
  },
  {
   "cell_type": "markdown",
   "metadata": {},
   "source": [
    "**EXERCISE**: Run K-Means with K=5. Follow the example above for K=4. Store the obtained centroids in the original scale as dataframe in the variable `centroid5_df`."
   ]
  },
  {
   "cell_type": "code",
   "execution_count": null,
   "metadata": {},
   "outputs": [],
   "source": [
    "# ...\n",
    "\n",
    "# centroid5_df = "
   ]
  },
  {
   "cell_type": "markdown",
   "metadata": {},
   "source": [
    "Again, we will look at the centroids and how many hours are attributed to each cluster:"
   ]
  },
  {
   "cell_type": "code",
   "execution_count": null,
   "metadata": {},
   "outputs": [],
   "source": [
    "centroid5_df"
   ]
  },
  {
   "cell_type": "code",
   "execution_count": null,
   "metadata": {
    "colab": {
     "base_uri": "https://localhost:8080/"
    },
    "id": "Ofn9ugiQqV8u",
    "outputId": "303ad329-6cb3-4e12-d8fe-0b0c86fca4ae"
   },
   "outputs": [],
   "source": [
    "pd.Series(kmeans5.labels_).value_counts()"
   ]
  },
  {
   "cell_type": "markdown",
   "metadata": {
    "id": "8UJoXgfxdP1L"
   },
   "source": [
    "## Principal Component Analysis (PCA)\n",
    "We now try to better understand the data based on principal component analysis (PCA)."
   ]
  },
  {
   "cell_type": "markdown",
   "metadata": {
    "id": "JebC5Nu7oaK7"
   },
   "source": [
    "### Calculating the PCA:"
   ]
  },
  {
   "cell_type": "code",
   "execution_count": null,
   "metadata": {
    "id": "Ts4Xz-8ooar7"
   },
   "outputs": [],
   "source": [
    "pca_weather = PCA().fit(X_scaled)\n",
    "pca_weather_trans = pca_weather.transform(X_scaled)"
   ]
  },
  {
   "cell_type": "markdown",
   "metadata": {},
   "source": [
    "### Explained variance per component"
   ]
  },
  {
   "cell_type": "code",
   "execution_count": null,
   "metadata": {
    "colab": {
     "base_uri": "https://localhost:8080/",
     "height": 449
    },
    "id": "4vZ0qK1Eo8NF",
    "outputId": "0c985311-aca7-4b56-e7e1-deaafb0bcdc5"
   },
   "outputs": [],
   "source": [
    "plt.bar(range(1, 1+len(pca_weather.explained_variance_ratio_)), pca_weather.explained_variance_ratio_, color='b', label='per component')\n",
    "plt.plot(range(1, 1+len(pca_weather.explained_variance_ratio_)), np.cumsum(pca_weather.explained_variance_ratio_), 'r-', label='cumulative')\n",
    "plt.grid(True)\n",
    "plt.legend()\n",
    "plt.xlabel('Number of Components')\n",
    "plt.ylabel('Cumulative Ratio of Explained Variance')\n",
    "plt.show()"
   ]
  },
  {
   "cell_type": "markdown",
   "metadata": {},
   "source": [
    "**EXERCISE**:\n",
    "\n",
    "* How much of the variance is explained by the first component?\n",
    "\n",
    "* How many components are needed to explain 80% of the variation?"
   ]
  },
  {
   "cell_type": "markdown",
   "metadata": {
    "id": "eOLCwSbhp2Bh"
   },
   "source": [
    "### Visualisation of the Loadings\n",
    "Next, we plot the loadings matrix to get an understanding of the individual components:"
   ]
  },
  {
   "cell_type": "code",
   "execution_count": null,
   "metadata": {
    "colab": {
     "base_uri": "https://localhost:8080/",
     "height": 452
    },
    "id": "20HPGpnrprjU",
    "outputId": "47896d8e-4495-4bc9-e074-f6ee782aa5fe"
   },
   "outputs": [],
   "source": [
    "fig, ax = plt.subplots()\n",
    "im = ax.imshow(pca_weather.components_)\n",
    "\n",
    "components = ['c1', 'c2', 'c3', 'c4', 'c5']\n",
    "features = X.columns\n",
    "\n",
    "ax.figure.colorbar(im)\n",
    "\n",
    "plt.xticks(ticks = range(5), labels = components)\n",
    "plt.yticks(ticks = range(5), labels = features)\n",
    "plt.grid(False)\n",
    "\n",
    "# Loop over data dimensions and create text annotations.\n",
    "for i in range(len(components)):\n",
    "    for j in range(len(features)):\n",
    "        text = ax.text(i, j, np.round(pca_weather.components_[j, i], 1),\n",
    "                       ha=\"center\", va=\"center\", color=\"w\")\n",
    "plt.title('Visualisation of Loadings')\n",
    "plt.show()"
   ]
  },
  {
   "cell_type": "markdown",
   "metadata": {},
   "source": [
    "**EXERCISE**:\n",
    "\n",
    "* Which attributes are most important for the first compnent?\n",
    "* Which component is most influenced by the rain duration?"
   ]
  },
  {
   "cell_type": "markdown",
   "metadata": {},
   "source": [
    "## Comparison of the typical weather situations found\n",
    "We can of course try to compare the situations found directly in the tables. Or we can use PCA to visualize the centers of the two PCA results. To do so, we just transform the two centroids using the PCA analysis we have learned before using all weather measurements."
   ]
  },
  {
   "cell_type": "markdown",
   "metadata": {},
   "source": [
    "**EXERCISE**: The below code will calculate the PCA of the centroids from K-Means with k=4, and plot its projection onto the first two principal components. Expand this code such that it also plots the centroids from K-Means with K=5 using the same projection in two dimensions. Interpret the result."
   ]
  },
  {
   "cell_type": "code",
   "execution_count": null,
   "metadata": {
    "id": "DTuBFUwHs0Ur"
   },
   "outputs": [],
   "source": [
    "# Transform centroids:\n",
    "centroids4_pca = pca_weather.transform(centroids4)\n",
    "\n",
    "# make a plot\n",
    "plt.plot(centroids4_pca[:, 0], centroids4_pca[:, 1], 'k*', label='K-Means, K=4')\n",
    "plt.xlabel('First PCA Component')\n",
    "plt.ylabel('Second PCA Component')\n",
    "plt.legend()\n",
    "plt.grid()\n",
    "plt.show()"
   ]
  },
  {
   "cell_type": "code",
   "execution_count": null,
   "metadata": {},
   "outputs": [],
   "source": []
  }
 ],
 "metadata": {
  "colab": {
   "provenance": []
  },
  "kernelspec": {
   "display_name": "Python 3 (ipykernel)",
   "language": "python",
   "name": "python3"
  },
  "language_info": {
   "codemirror_mode": {
    "name": "ipython",
    "version": 3
   },
   "file_extension": ".py",
   "mimetype": "text/x-python",
   "name": "python",
   "nbconvert_exporter": "python",
   "pygments_lexer": "ipython3",
   "version": "3.11.9"
  }
 },
 "nbformat": 4,
 "nbformat_minor": 4
}
