{
 "cells": [
  {
   "cell_type": "markdown",
   "metadata": {},
   "source": [
    "# From data to knowledge"
   ]
  },
  {
   "cell_type": "markdown",
   "metadata": {},
   "source": [
    "We start by importing the necessary libraries."
   ]
  },
  {
   "cell_type": "code",
   "execution_count": 2,
   "metadata": {},
   "outputs": [],
   "source": [
    "import numpy as np \n",
    "import pandas as pd\n",
    "import seaborn as sns\n",
    "import matplotlib.pyplot as plt "
   ]
  },
  {
   "cell_type": "markdown",
   "metadata": {},
   "source": [
    "### Simulating voters\n",
    "\n",
    "For this simulation we assume that we already know how every voter in the country is going to vote. We will create a dataset with the preference for each voter. For simplicity, we choose the first 45'000 voters to vote for candidate 0 and the other 55'000 voters to vote for candidate 1. "
   ]
  },
  {
   "cell_type": "code",
   "execution_count": 109,
   "metadata": {},
   "outputs": [],
   "source": [
    "all_votes = pd.DataFrame(\n",
    "  {'Vote': np.concatenate([np.zeros(45_000), np.ones(55_000) ])}\n",
    ")\n"
   ]
  },
  {
   "cell_type": "markdown",
   "metadata": {},
   "source": [
    "We already know the proportions of voters that vote for candidate 1 can be calculated by computing the mean of the dataset."
   ]
  },
  {
   "cell_type": "code",
   "execution_count": null,
   "metadata": {},
   "outputs": [],
   "source": [
    "print(\"the proportions of the votes for candidate 1 is\", all_votes['Vote'].mean())"
   ]
  },
  {
   "cell_type": "markdown",
   "metadata": {},
   "source": [
    "### Simulating a poll\n",
    "\n",
    "We can simulate a poll by taking a random sample of the voters. We will take a sample of 1000 voters and calculate the proportion of voters that vote for candidate 1.\n",
    "\n"
   ]
  },
  {
   "cell_type": "code",
   "execution_count": null,
   "metadata": {},
   "outputs": [],
   "source": [
    "sample_size = 1000\n",
    "sample = all_votes.sample(sample_size)\n",
    "print(\"the proportions of the votes for candidate 1 in the sample is\", sample['Vote'].mean())"
   ]
  },
  {
   "cell_type": "markdown",
   "metadata": {},
   "source": [
    "The following shows a visualization that displays the proportion of voters that vote for candidate 1 in the population and the proportion of voters that vote for candidate 1 in the sample. for the true population (blue bar) and the sample (orange bar)."
   ]
  },
  {
   "cell_type": "code",
   "execution_count": null,
   "metadata": {},
   "outputs": [],
   "source": [
    "sample = all_votes.sample(sample_size, replace=True)\n",
    "\n",
    "prop_ones_all_votes = all_votes['Vote'].mean()\n",
    "prop_zeros_all_votes = 1 - all_votes['Vote'].mean()\n",
    "\n",
    "prop_ones_samples = sample['Vote'].mean()\n",
    "prop_zeros_sample = 1 - sample['Vote'].mean()\n",
    "\n",
    "\n",
    "df = pd.DataFrame(\n",
    "    {\n",
    "        \"Category\": [\"all votes\", \"sample\", \"all votes\", \"sample\"],\n",
    "        \"Vote\": [0, 0, 1, 1],\n",
    "        \"Proportion\": [prop_zeros_all_votes, prop_zeros_sample, prop_ones_all_votes, prop_ones_samples]\n",
    "    }\n",
    ")\n",
    "df\n",
    "sns.barplot(data=df, x=\"Vote\", y =\"Proportion\", hue=\"Category\", orient='v')\n"
   ]
  },
  {
   "cell_type": "markdown",
   "metadata": {},
   "source": [
    "#### Exercise\n",
    "\n",
    "* Repeat the experiment a couple of times. Does the sample proportion always match the population proportion?\n",
    "* What changes when you increase or decrease the sample size?"
   ]
  },
  {
   "cell_type": "markdown",
   "metadata": {},
   "source": [
    "The following code simulates `num_polls` polls and keeps track of the estimates for the proportion of voters that vote for candidate 1. It then displays the estimates in a plot (a histogram)."
   ]
  },
  {
   "cell_type": "code",
   "execution_count": null,
   "metadata": {},
   "outputs": [],
   "source": [
    "num_polls = 1000\n",
    "p_estimates = np.zeros(num_polls) # keeps track of the proportions\n",
    "\n",
    "for i in range(0, num_polls): # repeat many times  \n",
    "  sample = all_votes.sample(sample_size)  # take a sample\n",
    "  p_estimates[i] = sample['Vote'].mean()  # estimate the proportion\n",
    "\n",
    "sns.histplot(p_estimates)   # plot the histogram\n"
   ]
  },
  {
   "cell_type": "markdown",
   "metadata": {},
   "source": [
    "#### Exercise:\n",
    "\n",
    "- What can you observe about the proportions of voters when you increase the sample size?\n",
    "- What can you observe about the proportions of voters when you decrease the sample size?\n",
    "- What can you say about the shape of the histogram that is plotted? "
   ]
  },
  {
   "cell_type": "markdown",
   "metadata": {},
   "source": [
    "### "
   ]
  },
  {
   "cell_type": "markdown",
   "metadata": {},
   "source": [
    "### Bootstrapping\n",
    "\n",
    "In practice, we don't control the data generating process and cannot generate arbitrary samples. We can, however, exploit the fact that for large enough samples, the proportion of 0 votes in the samples is very close to the proportion of 0 votes in the full population. \n",
    "\n",
    "We can use this fact to estimate the uncertainty of our estimate. We can do this by resampling from the sample we have and calculating the proportion of 0 votes in the resampled data. This is called bootstrapping."
   ]
  },
  {
   "cell_type": "markdown",
   "metadata": {},
   "source": [
    "Let's start with some sample."
   ]
  },
  {
   "cell_type": "code",
   "execution_count": 114,
   "metadata": {},
   "outputs": [],
   "source": [
    "sample_size=1000\n",
    "sample = all_votes.sample(sample_size, replace=True)"
   ]
  },
  {
   "cell_type": "markdown",
   "metadata": {},
   "source": [
    "Next we will resample from the sample with replacement and calculate the quantities of interest. We will repeat this process `num_resamples` times."
   ]
  },
  {
   "cell_type": "code",
   "execution_count": null,
   "metadata": {},
   "outputs": [],
   "source": [
    "\n",
    "# Generate bootstrap samples and compute mean\n",
    "bootstrap_estimates = pd.DataFrame({\"estimates\" : []})\n",
    "\n",
    "num_resamples = 100\n",
    "\n",
    "for i in range(0, num_resamples):\n",
    "  bootstrap_sample = sample.sample(n=len(sample), replace=True)\n",
    "  estimate = bootstrap_sample.mean()\n",
    "\n",
    "  bootstrap_estimates = pd.concat([bootstrap_estimates, pd.DataFrame({\"estimates\" : estimate})])\n",
    "\n",
    "\n",
    "sns.histplot(bootstrap_estimates)\n"
   ]
  },
  {
   "cell_type": "markdown",
   "metadata": {},
   "source": [
    "#### Exercise\n",
    "\n",
    "- Compare the result of the boostrapping with the result from the simulation above. Is it similar?"
   ]
  },
  {
   "cell_type": "markdown",
   "metadata": {},
   "source": [
    "### Confidence intervals"
   ]
  },
  {
   "cell_type": "markdown",
   "metadata": {},
   "source": [
    "We can use the bootstrapped estimates to calculate a confidence interval for the proportion of voters that vote for candidate 1. The confidence interval is a range of values that is likely to contain the true proportion of voters that vote for candidate 1. \n",
    "\n",
    "Assuming we have 100 bootstrapped estimates, the 90% confidence interval is the interval that contains the middle 90 estimates. That is, we discard the 5 lowest and the 5 highest estimates.\n",
    "\n",
    "This is implemented in the following code. "
   ]
  },
  {
   "cell_type": "code",
   "execution_count": null,
   "metadata": {},
   "outputs": [],
   "source": [
    "sorted_estimates = bootstrap_estimates.sort_values(by=\"estimates\", inplace=False)\n",
    "sns.barplot(data=sorted_estimates, x=range(0, len(sorted_estimates)), y='estimates')\n",
    "plt.xticks(range(0, len(sorted_estimates), 10))\n",
    "\n",
    "lower_bound = sorted_estimates.quantile(0.05).item() # returns value at 5th percentile\n",
    "upper_bound = sorted_estimates.quantile(0.95).item() # returns value at 95th percentile\n",
    "\n",
    "plt.axhline(lower_bound, color='red')\n",
    "plt.axhline(upper_bound, color='red')\n",
    "\n",
    "\n",
    "print(\"the true proportion p is between\", lower_bound, \"and\", upper_bound, \"with 90% confidence\")\n"
   ]
  },
  {
   "cell_type": "markdown",
   "metadata": {},
   "source": [
    "#### Exercise\n",
    "\n",
    "- What happens to the confidence interval when you increase the sample size? Is it getting smaller or larger?\n"
   ]
  },
  {
   "cell_type": "markdown",
   "metadata": {},
   "source": [
    "### P-Value"
   ]
  },
  {
   "cell_type": "markdown",
   "metadata": {},
   "source": [
    "Confidence intervals are a way to quantify the uncertainty of our estimate. Another way to quantify the uncertainty is to calculate the probability of observing an estimate more extreme than what we have observed, given that the true proportion of voters that vote for candidate 1 is 0.5. This probability is called the p-value."
   ]
  },
  {
   "cell_type": "markdown",
   "metadata": {},
   "source": [
    "It is easy to obtain the p-value by simulation. We assume that the true proportion of voters that vote for candidate 1 is 0.5. "
   ]
  },
  {
   "cell_type": "code",
   "execution_count": 117,
   "metadata": {},
   "outputs": [],
   "source": [
    "all_votes_H0 = pd.DataFrame(\n",
    "  {'Vote': np.concatenate([np.zeros(50_000), np.ones(50_000) ])}\n",
    ")"
   ]
  },
  {
   "cell_type": "markdown",
   "metadata": {},
   "source": [
    "Now we sample again polls from this 50-50 population and calculate the proportion of voters that vote for candidate 1. We repeat this process `num_polls` times. The histogram shows the distribution of the estimates."
   ]
  },
  {
   "cell_type": "code",
   "execution_count": null,
   "metadata": {},
   "outputs": [],
   "source": [
    "sample_size = 1000\n",
    "num_polls = 1000\n",
    "p_estimates_H0 = np.zeros(num_polls)\n",
    "for i in range(0, num_polls):\n",
    "  sample = all_votes_H0.sample(sample_size, replace = True)\n",
    "  p_estimates_H0[i] = sample['Vote'].mean()\n",
    "\n",
    "sns.histplot(p_estimates_H0)"
   ]
  },
  {
   "cell_type": "markdown",
   "metadata": {},
   "source": [
    "The histogram already gives us a good overview of how large proportions we would expect to see if the true proportion of voters that vote for candidate 1 is 0.5."
   ]
  },
  {
   "cell_type": "markdown",
   "metadata": {},
   "source": [
    "Now we compare it to the proportion we obtain from a sample from the true distribution."
   ]
  },
  {
   "cell_type": "code",
   "execution_count": null,
   "metadata": {},
   "outputs": [],
   "source": [
    "p_estimate = all_votes.sample(sample_size).mean()\n",
    "print(\"we estimated the proportion of voters that vote for candidate 1 to be\", p_estimate.item())"
   ]
  },
  {
   "cell_type": "markdown",
   "metadata": {},
   "source": [
    "The p-value is the proportion of estimates that are larger than the estimate we obtained from the sample."
   ]
  },
  {
   "cell_type": "code",
   "execution_count": null,
   "metadata": {},
   "outputs": [],
   "source": [
    "# count the nubmer of outcomes on p_estimates_H0 that are greater than p_estimated\n",
    "p_value = len(p_estimates_H0[(p_estimates_H0 > p_estimate.item())]) / len(p_estimates_H0)\n",
    "print(p_value)"
   ]
  },
  {
   "cell_type": "markdown",
   "metadata": {},
   "source": [
    "### Experiment\n",
    "\n",
    "- Is it likely, that the estimate we obtained from the sample is from a population where the proportion of voters that vote for candidate 1 is 0.5, according to the computed p-value?\n",
    "- How does the p-value change when you increase the sample size?\n"
   ]
  },
  {
   "cell_type": "markdown",
   "metadata": {},
   "source": []
  }
 ],
 "metadata": {
  "kernelspec": {
   "display_name": "Python 3",
   "language": "python",
   "name": "python3"
  },
  "language_info": {
   "codemirror_mode": {
    "name": "ipython",
    "version": 3
   },
   "file_extension": ".py",
   "mimetype": "text/x-python",
   "name": "python",
   "nbconvert_exporter": "python",
   "pygments_lexer": "ipython3",
   "version": "3.10.11"
  }
 },
 "nbformat": 4,
 "nbformat_minor": 2
}
