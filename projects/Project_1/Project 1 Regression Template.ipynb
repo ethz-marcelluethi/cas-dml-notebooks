{
 "cells": [
  {
   "cell_type": "markdown",
   "metadata": {
    "editable": true,
    "id": "VSSCkrdu9FCl",
    "slideshow": {
     "slide_type": ""
    },
    "tags": []
   },
   "source": [
    "# CAS DML Course Project 1: Exploratory Data Analysis and Regression"
   ]
  },
  {
   "cell_type": "markdown",
   "metadata": {
    "id": "j0aNpkki9FCn"
   },
   "source": [
    "In this notebook, we will explore regression using the diamond dataset. By the end, you should get a comprehensive understanding of how to implement and interpret regression models. \n",
    "\n",
    "The tasks are marked as **EXERCISE**. Some exercises will ask you to write text (e.g., to interpret a result), while others will ask you to code something.\n",
    "Coding exercises usually come with a cell as the one below. A line like `# scaler_demo = ...` asks you to define the `scaler_demo` variable:"
   ]
  },
  {
   "cell_type": "markdown",
   "metadata": {},
   "source": [
    "**DEMO EXERCISE**"
   ]
  },
  {
   "cell_type": "code",
   "execution_count": null,
   "metadata": {},
   "outputs": [],
   "source": [
    "from sklearn.preprocessing import StandardScaler\n",
    "\n",
    "# Initialize the scaler\n",
    "# scaler_demo = ..."
   ]
  },
  {
   "cell_type": "markdown",
   "metadata": {},
   "source": [
    "**DEMO SOLUTION**"
   ]
  },
  {
   "cell_type": "code",
   "execution_count": null,
   "metadata": {},
   "outputs": [],
   "source": [
    "from sklearn.preprocessing import StandardScaler\n",
    "\n",
    "# Initialize the scaler\n",
    "scaler_demo = StandardScaler()"
   ]
  },
  {
   "cell_type": "markdown",
   "metadata": {},
   "source": [
    "To solve this exercise, we completed the statement, e.g. by replacing `...` with `StandardScaler()`, and uncomment the line. Hence, the 4th line of the cell above should then read \n",
    "\n",
    "`scaler_demo = StandardScaler()`\n",
    "\n",
    "**END OF DEMO SOLUTION**"
   ]
  },
  {
   "cell_type": "markdown",
   "metadata": {},
   "source": [
    "Please don't change the variable names, as we often use these in later steps, and the notebook might not run any more if you change the variable name.\n",
    "\n",
    "The tasks are based on notions and code that you have seen in the lectures and/or tutorials. For any questions, please use the office hours."
   ]
  },
  {
   "cell_type": "markdown",
   "metadata": {},
   "source": [
    "## Preparations\n",
    "Here we import the very commonly used Python libraries. For clarity, we will import more classes and functions as we use them."
   ]
  },
  {
   "cell_type": "code",
   "execution_count": null,
   "metadata": {
    "id": "Tv9N-NQi9FCq"
   },
   "outputs": [],
   "source": [
    "import numpy as np\n",
    "import pandas as pd\n",
    "import matplotlib.pyplot as plt\n",
    "import seaborn as sns"
   ]
  },
  {
   "cell_type": "markdown",
   "metadata": {
    "id": "PIYvRaLq9FCq"
   },
   "source": [
    "## Dataset Overview\n",
    "\n",
    "This notebook will provide an initial exploration of different regression models based on the `diamond` dataset available e.g. from Kaggle: https://www.kaggle.com/datasets/shivam2503/diamonds. Below is a brief description of the dataset columns:\n",
    "\n",
    "- `price`: Diamond price in US dollars (values in the range of 326 to 18'823)\n",
    "- `carat`: The weight of the diamond (in the range 0.2 to 5.01)\n",
    "- `cut`: Quality of the cut (`Fair`, `Good`, `Very Good`, `Premium`, `Ideal`)\n",
    "- `color`: Diamond color, ranging from `J` (worst) to `D` (best)\n",
    "- `clarity`: Measurement of how clear the diamond is (`I1`, `SI2`, `SI1`, `VS2`, `VS1`, `VVS2`, `VVS1`, `IF`)\n",
    "- `depth`: Total diamond depth percentage\n",
    "- `x`, `y`, `z`: Diamond length, width, depth in mm (in the range 0 to 10.74)\n",
    "- `table`: Width of the top of the diamond relative to the widest point (in the range 43 to 95)"
   ]
  },
  {
   "cell_type": "markdown",
   "metadata": {
    "id": "WV7sWvvG9FCq"
   },
   "source": [
    "We use `read_csv` from the `pandas` library to load the data:"
   ]
  },
  {
   "cell_type": "code",
   "execution_count": null,
   "metadata": {
    "id": "UHGOexrd9FCq"
   },
   "outputs": [],
   "source": [
    "# Load the dataset\n",
    "data = pd.read_csv('diamonds.csv', index_col=0)\n",
    "data.reset_index(inplace=True, drop=True)"
   ]
  },
  {
   "cell_type": "markdown",
   "metadata": {
    "id": "C8Kcuh4V9FCq"
   },
   "source": [
    "We just use some functions in pandas to get first view for these data."
   ]
  },
  {
   "cell_type": "markdown",
   "metadata": {},
   "source": [
    "**EXERCISE**: Write code to get the first few rows for this dataset (1 line). Hint: use the function `head`."
   ]
  },
  {
   "cell_type": "code",
   "execution_count": null,
   "metadata": {},
   "outputs": [],
   "source": [
    "# ..."
   ]
  },
  {
   "cell_type": "markdown",
   "metadata": {},
   "source": [
    "**EXERCISE**: Write code to get a statiscal analysis for this dataset (1 line)"
   ]
  },
  {
   "cell_type": "code",
   "execution_count": null,
   "metadata": {},
   "outputs": [],
   "source": [
    "# ..."
   ]
  },
  {
   "cell_type": "markdown",
   "metadata": {},
   "source": [
    "**EXERCISE**: Write code to get a heatmap for this dataset.\n",
    "Hint: Proceed according to these steps:\n",
    "\n",
    "1. Use function `corr` to get the correlation for the dataset. Use the argument `numeric_only=True` to limit the correlation calculation to numeric attributes (you will get an error otherwise)\n",
    "2. Then use function `heatmap` from the `seaborn` library. Use the arugment `annot` to annotate the correlation values on the heatmap.\n",
    "3. Finally use `matplotlib.pyplot` library to show it."
   ]
  },
  {
   "cell_type": "code",
   "execution_count": null,
   "metadata": {
    "id": "Z7ZolLp4XrV3"
   },
   "outputs": [],
   "source": [
    "# Correlation convention here is the Pearson correlation factor (-1 <= r <= 1)\n",
    "\n",
    "# ...\n",
    "plt.show()"
   ]
  },
  {
   "cell_type": "markdown",
   "metadata": {
    "id": "GJkCI1FU9FCr"
   },
   "source": [
    "**EXERCISE**: Based on the heatmap above, asnwer the following two questions:\n",
    "\n",
    "1. Is there a linear relationship between variables `table` and `depth`? Give your explanation.\n",
    "2. Search for more useful information in this heatmap we have got *(Hint: which variables are relevant to `price` ?)*"
   ]
  },
  {
   "cell_type": "markdown",
   "metadata": {},
   "source": [
    "**SOLUTION**\n",
    "\n",
    "1. ...\n",
    "\n",
    "2. ..."
   ]
  },
  {
   "cell_type": "markdown",
   "metadata": {
    "id": "J2oPw5NHYgX5"
   },
   "source": [
    "**EXERCISE**: Write code to visualise the relationship between the variables, and get the distribution of each variable.\n",
    "\n",
    "Hint: use function `pairplot` from the `seaborn` library by setting `diag_kind='kde'`.\n"
   ]
  },
  {
   "cell_type": "code",
   "execution_count": null,
   "metadata": {},
   "outputs": [],
   "source": [
    "# ..."
   ]
  },
  {
   "cell_type": "markdown",
   "metadata": {
    "id": "swDqWpEgxcx5"
   },
   "source": [
    "**EXERCISE**:\n",
    "\n",
    "1. Is the there a linear relationship between `carat` and `price`?\n",
    "2. If you answered *yes*, is that relationship positive or negative ?"
   ]
  },
  {
   "cell_type": "markdown",
   "metadata": {},
   "source": [
    "**SOLUTION**\n",
    "\n",
    "1. ...\n",
    "\n",
    "2. ..."
   ]
  },
  {
   "cell_type": "markdown",
   "metadata": {
    "id": "CaY7Nv3o9FCs"
   },
   "source": [
    "## Preparing the Data Sets\n",
    "\n",
    "Before we evaluate and compare different regression models, we prepare the dataset. Following common practice, we will denote by `X` the features (or predictors, or independent variables) and by `y` the target value throughout this notebook. Furthermore, we will add additional information to the variable names, e.g., `X_train` should denote the features of the training data.\n",
    "\n",
    "First, we split the overall data into `X` and `y`. For `X`, we only use numeric data, i.e. the attributes `'carat', 'x', 'y', 'z', 'table', 'depth'`:"
   ]
  },
  {
   "cell_type": "code",
   "execution_count": null,
   "metadata": {},
   "outputs": [],
   "source": [
    "X_all = data[['carat', 'x', 'y', 'z', 'table', 'depth']]\n",
    "y_all = data[['price']]"
   ]
  },
  {
   "cell_type": "markdown",
   "metadata": {},
   "source": [
    "Next, we put apart 10% of the data for the **final evaluation**. Remember, to avoid any overfitting, we must not use that data for training and validation! We will denote this part of the data as `X_final_test` and `y_final_test`, respectively. The remainder of the data, stored in the variables `X_train_val` and `y_train_val`, will be split further into a training and validation set to train and compare different models. Note that some of the functions, e.g., `train_test_split`, do not use the notion of a validation set (at least not in their names), but they can be used analogously. It's important to always remember which dataset was or will be used for which task - this is also why we chose the respective names for `X_final_test` and `y_final_test`.\n",
    "\n",
    "For reproducibility, we add a `random_state` for the shuffling of the samples before the splitting."
   ]
  },
  {
   "cell_type": "code",
   "execution_count": null,
   "metadata": {},
   "outputs": [],
   "source": [
    "from sklearn.model_selection import train_test_split\n",
    "\n",
    "X_train_val, X_final_test, y_train_val, y_final_test = train_test_split(X_all, y_all, test_size=0.1, random_state=1)"
   ]
  },
  {
   "cell_type": "markdown",
   "metadata": {},
   "source": [
    "In the following, we will only work with `X_train_val` and `y_train_val` to train and validate models."
   ]
  },
  {
   "cell_type": "markdown",
   "metadata": {
    "id": "lZzw5ggn9FCr"
   },
   "source": [
    "## Linear regression\n",
    "As a first example of a model, we will use simple linear regression.\n",
    "\n",
    "Remember: Simple linear regression assumes a linear relationship between \n",
    "\n",
    "* one predictor/independent variable `x`\n",
    "* one response/dependent variable/prediction target `y`\n",
    "\n",
    "The relationship is modeled by a linear function: $\\hat y = w \\cdot x + b$, where\n",
    "\n",
    "* `w` refers to the **slope** of the regression line, in other words: the value with which `y` changes when `x` increases by 1 unit.\n",
    "* `b` refers to the **intercept** of the regression line, in other words: the value of `y` when `x=0`.\n",
    "\n",
    "For this task, we'll predict the price of a diamond based on one of its features.\n",
    "\n",
    "Examining the correlation matrix using a heatmap, we can see that the `carat` weight has the strongest correlation with `price`.\n",
    "\n",
    "Therefore, we use `carat` as `x` and `price` as `y`, i.e. we use carat as the predictor in our linear regression model to estimate diamond prices."
   ]
  },
  {
   "cell_type": "markdown",
   "metadata": {
    "id": "iiOpV-FV9FCr"
   },
   "source": [
    "Let's import and prepare a linear regression model:"
   ]
  },
  {
   "cell_type": "code",
   "execution_count": null,
   "metadata": {
    "colab": {
     "base_uri": "https://localhost:8080/",
     "height": 75
    },
    "id": "up_3oT9M9FCr",
    "outputId": "6a2cb1df-fe29-4297-fd96-f5d60b2b14a8"
   },
   "outputs": [],
   "source": [
    "from sklearn.linear_model import LinearRegression\n",
    "\n",
    "simple_linear_model = LinearRegression()"
   ]
  },
  {
   "cell_type": "markdown",
   "metadata": {},
   "source": [
    "### Data Preparation\n",
    "For the simple linear regression, we choose `carat` as the only feature:"
   ]
  },
  {
   "cell_type": "code",
   "execution_count": null,
   "metadata": {},
   "outputs": [],
   "source": [
    "X_train_val_single = X_train_val[['carat']]"
   ]
  },
  {
   "cell_type": "markdown",
   "metadata": {},
   "source": [
    "For the simple linear regression, we choose `carat` as the only feature:"
   ]
  },
  {
   "cell_type": "markdown",
   "metadata": {},
   "source": [
    "**EXERCISE**: Using the function `train_test_split` to split the data into train and test datasets to train and evaluate the model. "
   ]
  },
  {
   "cell_type": "code",
   "execution_count": null,
   "metadata": {
    "id": "DhJIWpqL9FCs"
   },
   "outputs": [],
   "source": [
    "from sklearn.model_selection import train_test_split\n",
    "\n",
    "# X_train, X_val, y_train, y_val = ..."
   ]
  },
  {
   "cell_type": "markdown",
   "metadata": {
    "id": "O_niiS009FCs"
   },
   "source": [
    "### Transformation\n",
    "Using a scaler like `StandardScaler`, we transform our features to have zero mean and unit variance. This will be important when doing regularization, and to improve convergence.\n",
    "\n",
    "To avoid a data leakage from training to validation (or test) data, we do the scaling after the splitting. We fit the scaler on the training data and then apply the same transformation to training, validation (and test) data."
   ]
  },
  {
   "cell_type": "markdown",
   "metadata": {},
   "source": [
    "**EXERCISE**: Complete the following code to scale both the training and the test data.\n",
    "\n",
    "Hints:\n",
    "1. Use the `StandardScaler` class from the `sklearn.preprocessing` module to standardize features.\n",
    "2. Initialize the scaler and fit it on the training data using `fit_transform()` to learn the scaling parameters.\n",
    "3. Apply the learned scaling to the test data using `transform()` to ensure both datasets are scaled in the same way."
   ]
  },
  {
   "cell_type": "code",
   "execution_count": null,
   "metadata": {
    "colab": {
     "base_uri": "https://localhost:8080/",
     "height": 160
    },
    "id": "pa8vPyBzdfag",
    "outputId": "17475660-b553-4865-d6a1-61ea53897007"
   },
   "outputs": [],
   "source": [
    "from sklearn.preprocessing import StandardScaler\n",
    "\n",
    "# Initialize the scaler\n",
    "# scaler = ...\n",
    "\n",
    "# fit the scaler\n",
    "\n",
    "# Tansform both training and test data\n",
    "# X_train_scaled = ...\n",
    "# X_val_scaled = ..."
   ]
  },
  {
   "cell_type": "markdown",
   "metadata": {
    "id": "N9OTxC1O9FCs"
   },
   "source": [
    "### Model Training\n",
    "\n",
    "Now we are ready to train our first model:"
   ]
  },
  {
   "cell_type": "markdown",
   "metadata": {
    "id": "AhoiGCYz9FCs"
   },
   "source": [
    "**EXERCISE**: Write code to train the linear regression model using the training data."
   ]
  },
  {
   "cell_type": "code",
   "execution_count": null,
   "metadata": {},
   "outputs": [],
   "source": [
    "# ..."
   ]
  },
  {
   "cell_type": "markdown",
   "metadata": {
    "id": "mw8J0JL0fQcg"
   },
   "source": [
    "**EXERCISE:** According to the model, \n",
    "\n",
    "1. What is the value of the intercept (b) in this linear regression?\n",
    "2. What is the value of the slope (w) in this linear regression?\n",
    "3. How much does the price of a diamond increase with each additional carat?\n",
    "\n",
    "Write code to answer these questions."
   ]
  },
  {
   "cell_type": "code",
   "execution_count": null,
   "metadata": {},
   "outputs": [],
   "source": [
    "# ..."
   ]
  },
  {
   "attachments": {},
   "cell_type": "markdown",
   "metadata": {
    "id": "YR3X_mdx9FCs"
   },
   "source": [
    "### Model Evaluation\n",
    "`scikit-learn` offers predefined functions for measuring regression quality - see slide *Quality Metric in Python / scikit-learn*."
   ]
  },
  {
   "cell_type": "markdown",
   "metadata": {},
   "source": [
    "**EXERCISE**: Write code to obtain predictions on the scaled `X_val` and evaluate the performance of the regression model by computing `root_mean_squared_error`, `\n",
    "mean_absolute_error`, `\n",
    "median_absolute_error` and `\n",
    "r2_score`."
   ]
  },
  {
   "cell_type": "code",
   "execution_count": null,
   "metadata": {
    "colab": {
     "base_uri": "https://localhost:8080/",
     "height": 125
    },
    "id": "FmmIXkpdkgXA",
    "outputId": "105a97d1-1404-4a59-e3c2-ced57699834c"
   },
   "outputs": [],
   "source": [
    "from sklearn.metrics import mean_absolute_error, mean_squared_error, median_absolute_error, root_mean_squared_error, r2_score\n",
    "\n",
    "# Make predictions using the model\n",
    "# y_pred = ...\n",
    "\n",
    "# Calculate R-squared\n",
    "# r_squared = ...\n",
    "r_squared = 0\n",
    "\n",
    "# Calculate Mean Absolute Error\n",
    "# mean_abs = ...\n",
    "mean_abs = 0\n",
    "\n",
    "# Calculate Mean Squared Error\n",
    "# mean_squ = ...\n",
    "mean_squ = 0\n",
    "\n",
    "# Calculate Median Absolute Error\n",
    "# median_error = ...\n",
    "median_error = 0\n",
    "\n",
    "# Print the results\n",
    "print(\"R-squared:\", r_squared)\n",
    "print(\"Mean Absolute Error (MAE):\", mean_abs)\n",
    "print(f\"Mean Squared Error (MSE): {mean_squ}\")\n",
    "print(f\"Median Absolute Error: {median_error}\")"
   ]
  },
  {
   "cell_type": "markdown",
   "metadata": {
    "id": "X2IaKbMj9FCt"
   },
   "source": [
    "With these formulas, we have quantified/measured the regression model's performance.\n",
    "\n",
    "But, to actually evaluate our model, we need to answer the question:  how can we interpret how good our model actually is?\n",
    "\n",
    "**EXERCISE**:\n",
    "What does the R-squared value indicate about the model's performance?  "
   ]
  },
  {
   "cell_type": "markdown",
   "metadata": {},
   "source": [
    "**SOLUTION**\n",
    "\n",
    "..."
   ]
  },
  {
   "cell_type": "markdown",
   "metadata": {
    "id": "8vuwPk4r9FCt"
   },
   "source": [
    "## Multiple Linear Regression\n",
    "\n",
    "What if we want to predict diamond price using more than one variable?\n",
    "\n",
    "If we want to use more variables in our model to predict diamond price, we can use **Multiple Linear Regression**.\n",
    "Multiple Linear Regression is very similar to Simple Linear Regression, but this method is used to explain the relationship between one continuous response (dependent) variable and **two or more** predictor (independent) variables.\n",
    "Most of the real-world regression models involve multiple predictors. We will illustrate the structure by using four predictor variables, but these results can generalize to any integer:\n",
    "\n",
    "* $y$: Response Variable\n",
    "* $x_1$: Predictor Variable 1\n",
    "* $x_2$: Predictor Variable 2\n",
    "* $x_3$: Predictor Variable 3\n",
    "* $x_4$: Predictor Variable 4\n",
    "* ...\n",
    "\n",
    "Such a model will have the following parameters:\n",
    "\n",
    "* $b$: intercept\n",
    "* $w_1$: coefficient of Variable 1\n",
    "* $w_2$: coefficient of Variable 2\n",
    "* $w_3$: coefficient of Variable 3\n",
    "* $w_4$: coefficient of Variable 4\n",
    "* ...\n",
    "\n",
    "The equation is given by:\n",
    "\n",
    "$\\hat y = b + w_1 \\cdot x_1 + w_2 \\cdot x_2 + w_3 \\cdot x_3 + w_4 \\cdot x_4 + ...$"
   ]
  },
  {
   "cell_type": "markdown",
   "metadata": {
    "id": "0KHArV7M9FCt"
   },
   "source": [
    "**EXERCISE**: Write code to define, train (fit) and evaluate a multiple linear model that is using all available features to predict the price of a diamond. Proceed following the same structure of the simple linear model:\n",
    "\n",
    "1. Load the data -> There's nothing to do here, as we already have prepared `X_train_val` and `y_train_val`.\n",
    "2. Split into train and validation sets. Allocate 20% of the data for validation, and use `random_state=1` to ensure reproducibility of the split.\n",
    "3. Standardize the datasets: Use the `StandardScaler` class from the `sklearn.preprocessing` module to standardize features.\n",
    "4. Initialize and train/fit the linear regression model\n",
    "5. Evaluate the model on validation data"
   ]
  },
  {
   "cell_type": "code",
   "execution_count": null,
   "metadata": {},
   "outputs": [],
   "source": [
    "# 2. Split into train and validation sets\n",
    "from sklearn.model_selection import train_test_split\n",
    "\n",
    "# X_train, X_val, y_train, y_val = ..."
   ]
  },
  {
   "cell_type": "code",
   "execution_count": null,
   "metadata": {},
   "outputs": [],
   "source": [
    "# 3. Standardize the datasets\n",
    "from sklearn.preprocessing import StandardScaler\n",
    "\n",
    "# Initialize the scaler\n",
    "# ... \n",
    "\n",
    "# Fit the scaler on the training data \n",
    "# ... \n",
    "\n",
    "# Tansform both training and validation data\n",
    "# X_train_scaled = ...\n",
    "# X_val_scaled  = ..."
   ]
  },
  {
   "cell_type": "code",
   "execution_count": null,
   "metadata": {
    "colab": {
     "base_uri": "https://localhost:8080/",
     "height": 71
    },
    "id": "KBlLh6I7QxGw",
    "outputId": "1f06e2d9-8bc3-4b02-9d98-94b35c4510a1"
   },
   "outputs": [],
   "source": [
    "# 4. Initialize and train the linear regression model\n",
    "\n",
    "# Initalise an instance of the model\n",
    "# multi_linear_model = ...\n",
    "\n",
    "# Fit the model\n",
    "# ... "
   ]
  },
  {
   "cell_type": "code",
   "execution_count": null,
   "metadata": {},
   "outputs": [],
   "source": [
    "# 5. Evaluate the model on validation data\n",
    "\n",
    "# Use the model to predict on validation data\n",
    "# ... \n",
    "\n",
    "# Calculate R-squared\n",
    "# r_squared = ...\n",
    "\n",
    "# Calculate Mean Absolute Error\n",
    "# mean_abs = ...\n",
    "\n",
    "# Calculate Mean Squared Error\n",
    "# mean_squ = ...\n",
    "\n",
    "# Calculate Median Absolute Error\n",
    "# median_error = ...\n",
    "\n",
    "# Print the results\n",
    "print(\"R-squared:\", r_squared)\n",
    "print(\"Mean Absolute Error (MAE):\", mean_abs)\n",
    "print(f\"Mean Squared Error (MSE): {mean_squ}\")\n",
    "print(f\"Median Absolute Error: {median_error}\")"
   ]
  },
  {
   "cell_type": "markdown",
   "metadata": {
    "id": "49rFeWHk9FCu"
   },
   "source": [
    "## Preparation for Model Comparison\n",
    "\n",
    "As we are going to compare several models with each other, we group the different steps as followed above into a function such that we don't have to copy-paste a lot of code."
   ]
  },
  {
   "cell_type": "code",
   "execution_count": null,
   "metadata": {},
   "outputs": [],
   "source": [
    "def apply_eval_model(model, X, y_true, model_name, do_print=True):\n",
    "    \"\"\"\n",
    "    Function to evaluate a given model on a feature data frame and compute several performance metrics.\n",
    "    The results are returned as a data frame and optionally printed out.\n",
    "\n",
    "    Arguments:\n",
    "    model - the model to be evaluated\n",
    "    X - a data frame containing the predictors\n",
    "    y_true - the true target values, used for the performance assessment\n",
    "    model_name - name of the model (will be added to the result data frame)\n",
    "    do_print - optional argument to indicate whether the results should be printed \n",
    "    \"\"\"\n",
    "    y_pred = model.predict(X)\n",
    "    if do_print:\n",
    "        print('r2-Score: ' + str(r2_score(y_true, y_pred)))\n",
    "        print('MSE: ' + str(mean_squared_error(y_true, y_pred)))\n",
    "        print('RMSE: ' + str(root_mean_squared_error(y_true, y_pred)))\n",
    "    \n",
    "    if len(model_name)>0:\n",
    "        df = pd.DataFrame({'model_name': model_name,\n",
    "                           'r2_score': r2_score(y_true, y_pred),\n",
    "                           'MSE': mean_squared_error(y_true, y_pred),\n",
    "                           'MAE': mean_absolute_error(y_true, y_pred),\n",
    "                           'RMS': root_mean_squared_error(y_true, y_pred)},\n",
    "                           index=[model_name])\n",
    "        return df"
   ]
  },
  {
   "cell_type": "code",
   "execution_count": null,
   "metadata": {},
   "outputs": [],
   "source": [
    "def train_apply_eval_model(model, X_train, y_train, X_val, y_val, model_name='model', do_print=True):\n",
    "    \"\"\"\n",
    "    Train a given model on a training data set, and evaluate it on both the training and validation data.\n",
    "\n",
    "    Arguments:\n",
    "    model - the model to be evaluated\n",
    "    X_train - the training predictors\n",
    "    y_train - the true labels of the training data set\n",
    "    X_val - the predictors of the validation data set\n",
    "    y_val - the true labels of the validation data set\n",
    "    model_name - name of the model (will be added to the result data frame)\n",
    "    do_print - optional argument to indicate whether the results should be printed \n",
    "    \"\"\"\n",
    "    \n",
    "    n_val = X_val.shape[0]\n",
    "    \n",
    "    # Fit the model\n",
    "    model.fit(X_train, y_train)\n",
    "\n",
    "    if do_print:\n",
    "        print('Evaluation on Training Data:')\n",
    "    res_train = apply_eval_model(model, X_train, y_train, model_name, do_print=do_print)\n",
    "    res_train['dataset'] = 'train'\n",
    "\n",
    "    if n_val>0:\n",
    "        if do_print:\n",
    "            print('\\nEvaluation on Validation Data:')\n",
    "        res_val = apply_eval_model(model, X_val, y_val, model_name, do_print=do_print)\n",
    "        res_val['dataset'] = 'validation'\n",
    "        \n",
    "        return pd.concat([res_train, res_val])\n",
    "    else:\n",
    "        return res_train"
   ]
  },
  {
   "cell_type": "markdown",
   "metadata": {},
   "source": [
    "Let's double-check we get the same results when using the function as we got before:"
   ]
  },
  {
   "cell_type": "code",
   "execution_count": null,
   "metadata": {},
   "outputs": [],
   "source": [
    "model_name='all features'\n",
    "\n",
    "model_all_features = LinearRegression()\n",
    "\n",
    "all_features_results = train_apply_eval_model(model_all_features, X_train_scaled, y_train, X_val_scaled, y_val, model_name=model_name)"
   ]
  },
  {
   "cell_type": "markdown",
   "metadata": {},
   "source": [
    "Also, the scalers return the result in a different data structure than what we used so far: We like to have dataframes, as it allows us to access the features via their names. The scalers, however, return the scaled values as an array (you'll get to know these terms later in the Python course). We can easily convert the scales values to a dataframe:"
   ]
  },
  {
   "cell_type": "code",
   "execution_count": null,
   "metadata": {},
   "outputs": [],
   "source": [
    "X_train_scaled = pd.DataFrame(X_train_scaled, columns=X_train.columns)\n",
    "X_val_scaled = pd.DataFrame(X_val_scaled, columns=X_val.columns)"
   ]
  },
  {
   "cell_type": "markdown",
   "metadata": {
    "id": "f6rIHKgE9FCu"
   },
   "source": [
    "### Trying different predictor variable combinations\n",
    "\n",
    "Using the function defined above, we can now easily evaluate models based on different combinations of predictor variables. For example, let's start with a model that only uses `x`, `y`, and `z`. Remember the `X_train` contains all the attributes:"
   ]
  },
  {
   "cell_type": "code",
   "execution_count": null,
   "metadata": {},
   "outputs": [],
   "source": [
    "X_train_scaled.head()"
   ]
  },
  {
   "cell_type": "markdown",
   "metadata": {},
   "source": [
    "We define the set of attributes we want to be used for the prediction as `predictor_features = ['x', 'y', 'z']`. And we give the model a name `model_name = 'only_x_y_z'`.\n",
    "\n",
    "Then, we create a new linear regression object (which is not yet trained!) that we hand over the function. The function `train_apply_eval_model` will then train the model on the training data and evaluate it on both the training and validation data:"
   ]
  },
  {
   "cell_type": "code",
   "execution_count": null,
   "metadata": {},
   "outputs": [],
   "source": [
    "predictor_features = ['x', 'y', 'z']\n",
    "model_name = 'only_x_y_z'\n",
    "model_only_x_y_z = LinearRegression()\n",
    "\n",
    "only_x_y_z_results = train_apply_eval_model(model_only_x_y_z, X_train_scaled[predictor_features], y_train,\n",
    "                                            X_val_scaled[predictor_features], y_val, model_name=model_name)"
   ]
  },
  {
   "cell_type": "markdown",
   "metadata": {},
   "source": [
    "**EXERCISE:** Train and evaluate a linear model based only on the two attribues `depth` and `carat`:"
   ]
  },
  {
   "cell_type": "code",
   "execution_count": null,
   "metadata": {},
   "outputs": [],
   "source": [
    "# ...\n",
    "\n",
    "# only_depth_carat_results = ..."
   ]
  },
  {
   "cell_type": "markdown",
   "metadata": {},
   "source": [
    "**EXERCISE:** Train and evaluate a linear model based only on the two attribues `carat`, `x`, `depth` and `table`; i.e., all attributes *except* `y` and `z`"
   ]
  },
  {
   "cell_type": "code",
   "execution_count": null,
   "metadata": {},
   "outputs": [],
   "source": [
    "# ...\n",
    "\n",
    "# all_except_y_and_z_results = ..."
   ]
  },
  {
   "cell_type": "markdown",
   "metadata": {},
   "source": [
    "Finally, we also define a model that only uses `carat` to predict the `price`:"
   ]
  },
  {
   "cell_type": "code",
   "execution_count": null,
   "metadata": {},
   "outputs": [],
   "source": [
    "predictor_features = ['carat']\n",
    "model_name = 'only_carat'\n",
    "model_only_carat = LinearRegression()\n",
    "\n",
    "only_carat_results = train_apply_eval_model(model_only_carat, X_train_scaled[predictor_features], y_train,\n",
    "                                             X_val_scaled[predictor_features], y_val, model_name=model_name)"
   ]
  },
  {
   "cell_type": "markdown",
   "metadata": {
    "colab": {
     "base_uri": "https://localhost:8080/"
    },
    "id": "hL9Vnlt19FCu",
    "outputId": "29980754-7ce4-432b-e66e-3e427d0d4328"
   },
   "source": [
    "Now, we combine all the results to a single data structure:"
   ]
  },
  {
   "cell_type": "code",
   "execution_count": null,
   "metadata": {},
   "outputs": [],
   "source": [
    "all_results = pd.concat([only_carat_results, only_depth_carat_results, only_x_y_z_results,\n",
    "                         all_except_y_and_z_results, all_features_results])"
   ]
  },
  {
   "cell_type": "markdown",
   "metadata": {},
   "source": [
    "Here is the overview over the performance of the different models:"
   ]
  },
  {
   "cell_type": "code",
   "execution_count": null,
   "metadata": {},
   "outputs": [],
   "source": [
    "all_results"
   ]
  },
  {
   "cell_type": "markdown",
   "metadata": {},
   "source": [
    "We can now plot the performance (measured via r2-Score and RMS) of the different models, both on the training and the validation dataset:"
   ]
  },
  {
   "cell_type": "code",
   "execution_count": null,
   "metadata": {},
   "outputs": [],
   "source": [
    "# Plotting the results\n",
    "metrics =['r2_score', 'RMS']\n",
    "\n",
    "# Create a figure with subplots\n",
    "fig, axs = plt.subplots(1, 2, figsize=(10, 5))\n",
    "\n",
    "for i, metric in enumerate(metrics):\n",
    "    sns.barplot(data=all_results, x='model_name', y=metric, hue='dataset', ax=axs[i])\n",
    "    axs[i].tick_params(axis='x', rotation=45)\n",
    "    axs[i].set_xlabel('Features')\n",
    "    axs[i].legend(loc='lower center')\n",
    "    axs[i].grid()\n",
    "\n",
    "plt.tight_layout()\n",
    "plt.show()"
   ]
  },
  {
   "cell_type": "markdown",
   "metadata": {},
   "source": [
    "**EXERCISE:** \n",
    "\n",
    "1. Comment these results. What could be a possible explanation? You might include findings from the correlation heatmap.\n",
    "2. Compare the model where we only excluded `y` and `z` to the one where we kept all the features (*hint*: Given `x`, did we gain enough information from these variables ?)\n",
    "3. Which model would you choose to automatically predict the price of a new set of diamonds? Explain your choice.\n",
    "4. How do you estimate how well the model you've chosen will work on new data?\n",
    "\n",
    "**N.B.** You can add python code cells to illustrate your solution."
   ]
  },
  {
   "cell_type": "markdown",
   "metadata": {},
   "source": [
    "**SOLUTION:**\n",
    "\n",
    "1. ...\n",
    "\n",
    "2. ...\n",
    "\n",
    "3. ...\n",
    "\n",
    "4. ..."
   ]
  },
  {
   "cell_type": "markdown",
   "metadata": {
    "id": "I9LDU-mA9FCu"
   },
   "source": [
    "## Trying different Regularized Models\n",
    "We will now use different regularized regression models. We start with `Ridge` Regression and `Lasso`, using the default value for the hyperparameter $\\alpha$:"
   ]
  },
  {
   "cell_type": "code",
   "execution_count": null,
   "metadata": {
    "id": "OnLG2ya39FCv"
   },
   "outputs": [],
   "source": [
    "predictor_features = ['carat', 'x', 'y', 'z', 'table', 'depth']"
   ]
  },
  {
   "cell_type": "code",
   "execution_count": null,
   "metadata": {
    "colab": {
     "base_uri": "https://localhost:8080/"
    },
    "id": "5iGqprKW9FCv",
    "outputId": "13d13af8-9434-4988-9428-2d5eae923840"
   },
   "outputs": [],
   "source": [
    "from sklearn.linear_model import Ridge\n",
    "\n",
    "model_name = 'ridge, default param, all features'\n",
    "\n",
    "model = Ridge()\n",
    "\n",
    "ridge_default_all_results = train_apply_eval_model(model, X_train_scaled, y_train, X_val_scaled, y_val, model_name=model_name)"
   ]
  },
  {
   "cell_type": "code",
   "execution_count": null,
   "metadata": {},
   "outputs": [],
   "source": [
    "from sklearn.linear_model import Lasso\n",
    "\n",
    "model_name = 'lasso, default param, all features'\n",
    "\n",
    "lasso_model = Lasso()\n",
    "\n",
    "lasso_default_all_results = train_apply_eval_model(lasso_model, X_train_scaled, y_train, X_val_scaled, y_val, model_name=model_name)"
   ]
  },
  {
   "cell_type": "markdown",
   "metadata": {
    "id": "syhQsUrx9FCv"
   },
   "source": [
    "We define a function to visualize the coefficient values - we define this rather general, as we will use it later also for other models."
   ]
  },
  {
   "cell_type": "code",
   "execution_count": null,
   "metadata": {
    "colab": {
     "base_uri": "https://localhost:8080/",
     "height": 432
    },
    "id": "hqMSrnU69FCv",
    "outputId": "7d37d451-92a9-4e51-c6f0-b9218153340a"
   },
   "outputs": [],
   "source": [
    "def visualize_coefficients(coefficient_values, feature_names, model_name='Lasso'):\n",
    "    \"\"\"\n",
    "    Visualize the coeffients in decreasing order of their absolute values in a bar chart\n",
    "\n",
    "    Arguments:\n",
    "    coefficient_values - the values of the coefficients to be plotted. An array or series (i.e., a column of a data frame)\n",
    "    feature_names - the name of the features for which the coefficients are given, in the same order as coefficient_values\n",
    "    model_name - name of the model (will be added to the result data frame)\n",
    "    \"\"\"\n",
    "\n",
    "    # Get the indices of non-zero coefficient values\n",
    "    non_zero_indices = np.where(coefficient_values != 0)[0]\n",
    "\n",
    "    # Sort coefficient_values by absolute value\n",
    "    sorted_indices = non_zero_indices[np.argsort(np.abs(coefficient_values[non_zero_indices]))[::-1]]\n",
    "\n",
    "    # Create a bar plot\n",
    "    plt.bar(range(len(sorted_indices)), coefficient_values[sorted_indices])\n",
    "\n",
    "    # Set the tick labels to feature names\n",
    "    plt.xticks(range(len(sorted_indices)), [feature_names[i] for i in sorted_indices], rotation=45, ha='right')\n",
    "\n",
    "    plt.title(model_name + ': Non-Zero Coefficients')\n",
    "    plt.xlabel('Features')\n",
    "    plt.ylabel('Coefficient Value')\n",
    "    plt.tight_layout()\n",
    "    plt.grid()\n",
    "    plt.show()"
   ]
  },
  {
   "cell_type": "markdown",
   "metadata": {},
   "source": [
    "Now let's look at the feature parameters as estimated by the Lasso regression model:"
   ]
  },
  {
   "cell_type": "code",
   "execution_count": null,
   "metadata": {},
   "outputs": [],
   "source": [
    "visualize_coefficients(lasso_model.coef_, predictor_features)"
   ]
  },
  {
   "cell_type": "markdown",
   "metadata": {
    "id": "5tOy1IdY9FCv"
   },
   "source": [
    "As we can see from the plot, `carat` and `x` are very important according to the lasso model, while the variables `y` and `z` get only a small coefficient."
   ]
  },
  {
   "cell_type": "markdown",
   "metadata": {
    "id": "iV2iP6qt9FCv"
   },
   "source": [
    "## Grid Search for Hyperparameters in Shrinkage Models\n",
    "\n",
    "We now want to optimize the hyperparameter $\\alpha$ for both Lasso and Ridge regression. We want to make a choice such that we get the best performance on a **new** data set. As this is a learning step, we need to avoid overfitting, and therefore need to make this selection on a separate data set. \n",
    "\n",
    "The class `GridSearchCV` from `scikit-learn` makes the process of finding the best hyperparameter simpler: it internally does a cross-validation and then selects the best hyperparameter value out of a provided list of values. The selection is based on a criterion that we have to provide. Hence, we can use `GridSearchCV` on the (already scaled) `X_train_scaled` dataframe of predictors, and the `fit` function will internally create multiple splits.\n",
    "\n",
    "For both shrinkage models, we will use the R2-score as criterion."
   ]
  },
  {
   "cell_type": "code",
   "execution_count": null,
   "metadata": {},
   "outputs": [],
   "source": [
    "from sklearn.model_selection import train_test_split, GridSearchCV\n",
    "from sklearn.metrics import mean_absolute_error, mean_squared_error, median_absolute_error\n",
    "from sklearn.linear_model import Lasso, Ridge"
   ]
  },
  {
   "cell_type": "markdown",
   "metadata": {},
   "source": [
    "### Grid Search for Lasso\n",
    "We start with the Lasso model.\n",
    "\n",
    "When starting a hyperparameter optimization, it is usually very hard to guess the right range of the hyperparameters. Therefore, we start with a rather wide range of potential values for $\\alpha$, and then refine that range after a first indication of the order of magnitude."
   ]
  },
  {
   "cell_type": "code",
   "execution_count": null,
   "metadata": {},
   "outputs": [],
   "source": [
    "alpha_range = [0.000_1, 0.001, 0.01, 0.1, 1, 10, 100, 1_000]\n",
    "lasso_model = Lasso(max_iter=10000)"
   ]
  },
  {
   "cell_type": "code",
   "execution_count": null,
   "metadata": {},
   "outputs": [],
   "source": [
    "grid_search = GridSearchCV(lasso_model, param_grid = {'alpha': alpha_range}, scoring='r2')\n",
    "grid_search.fit(X_train_scaled, y_train)"
   ]
  },
  {
   "cell_type": "code",
   "execution_count": null,
   "metadata": {},
   "outputs": [],
   "source": [
    "# Get the best model\n",
    "best_model = grid_search.best_estimator_\n",
    "print(f\"Best alpha value: {grid_search.best_params_['alpha']}\")"
   ]
  },
  {
   "cell_type": "markdown",
   "metadata": {},
   "source": [
    "Now that we have found the order of magnitude for $\\alpha$, let us optimize the parameter value in more detail in this range:"
   ]
  },
  {
   "cell_type": "code",
   "execution_count": null,
   "metadata": {},
   "outputs": [],
   "source": [
    "alpha_range = [0.3, 0.5, 0.8, 1, 2, 3, 5]\n",
    "\n",
    "grid_search_lasso = GridSearchCV(lasso_model, param_grid = {'alpha': alpha_range}, scoring='r2')\n",
    "grid_search_lasso.fit(X_train_scaled, y_train)"
   ]
  },
  {
   "cell_type": "code",
   "execution_count": null,
   "metadata": {},
   "outputs": [],
   "source": [
    "# Get the best model\n",
    "print(f\"Best alpha value: {grid_search_lasso.best_params_['alpha']}\")"
   ]
  },
  {
   "cell_type": "markdown",
   "metadata": {},
   "source": [
    "Now we evaluate the lasso regression model with the optimal values of the hyperparameter:"
   ]
  },
  {
   "cell_type": "code",
   "execution_count": null,
   "metadata": {},
   "outputs": [],
   "source": [
    "from sklearn.linear_model import Lasso\n",
    "\n",
    "model_name = 'Lasso, alpha=2, all features'\n",
    "lasso_model = Lasso(alpha=grid_search_lasso.best_params_['alpha'])\n",
    "\n",
    "lasso_opt_all_results = train_apply_eval_model(lasso_model, X_train_scaled, y_train, X_val_scaled, y_val, model_name=model_name)"
   ]
  },
  {
   "cell_type": "markdown",
   "metadata": {},
   "source": [
    "### Grid Search for Ridge Regression"
   ]
  },
  {
   "cell_type": "markdown",
   "metadata": {},
   "source": [
    "**EXERCISE:** Fine-tune the hyperparameter for Ridge regression analoguously. Run the ridge regression model with the obtained optimal parameter value, and store its performance. "
   ]
  },
  {
   "cell_type": "code",
   "execution_count": null,
   "metadata": {},
   "outputs": [],
   "source": [
    "# ..."
   ]
  },
  {
   "cell_type": "code",
   "execution_count": null,
   "metadata": {},
   "outputs": [],
   "source": [
    "# ...\n",
    "\n",
    "# ridge_opt_all_results = train_apply_eval_model(lasso_model, X_train_scaled, y_train, X_val_scaled, y_val, model_name=model_name)"
   ]
  },
  {
   "cell_type": "markdown",
   "metadata": {},
   "source": [
    "### Comparison of Models\n",
    "Next, we compare the different models based on all features, i.e.\n",
    "* the unconstrained linear regression\n",
    "* the lasso model with default parameters\n",
    "* the lasso model with optimized parameters\n",
    "* the ridge regression with default parameters\n",
    "* the ridge regression with optimized parameters\n",
    "\n",
    "As we have done above with the linear regression models with different features, we will create a DataFrame with the results and then generate a plot."
   ]
  },
  {
   "cell_type": "code",
   "execution_count": null,
   "metadata": {},
   "outputs": [],
   "source": [
    "all_features_results"
   ]
  },
  {
   "cell_type": "code",
   "execution_count": null,
   "metadata": {},
   "outputs": [],
   "source": [
    "all_results = pd.concat([all_features_results, lasso_default_all_results, ridge_default_all_results,\n",
    "                         lasso_opt_all_results, ridge_opt_all_results])"
   ]
  },
  {
   "cell_type": "code",
   "execution_count": null,
   "metadata": {},
   "outputs": [],
   "source": [
    "all_results"
   ]
  },
  {
   "cell_type": "code",
   "execution_count": null,
   "metadata": {},
   "outputs": [],
   "source": [
    "# Plotting the results\n",
    "metrics =['r2_score', 'RMS']\n",
    "\n",
    "# Create a figure with subplots\n",
    "fig, axs = plt.subplots(1, 2, figsize=(10, 3))\n",
    "\n",
    "for i, metric in enumerate(metrics):\n",
    "    sns.barplot(data=all_results, y='model_name', x=metric, hue='dataset', ax=axs[i])\n",
    "    axs[i].legend(loc='lower center')\n",
    "    axs[i].grid()\n",
    "\n",
    "plt.tight_layout()\n",
    "plt.show()"
   ]
  },
  {
   "cell_type": "markdown",
   "metadata": {
    "colab": {
     "base_uri": "https://localhost:8080/"
    },
    "id": "bJHRzu-I9FCv",
    "outputId": "747760cc-e044-48ef-e69d-69dd9714b170"
   },
   "source": [
    "**EXERCISE**: Comment on the results above. In particular, compare the results obtained the (unconstrained) multiple linear regression, by Lasso and by Ridge, and for both Lasso and Ridge the results with the default and the optimized parameters.\n",
    "\n",
    "Then, what do you conclude?"
   ]
  },
  {
   "cell_type": "markdown",
   "metadata": {},
   "source": [
    "**SOLUTION**:\n",
    "\n",
    "..."
   ]
  },
  {
   "cell_type": "markdown",
   "metadata": {},
   "source": [
    "## An Experiment: Varying the Amount of Training Data\n",
    "In the next experiment, we will vary the amount of training data. To do so, we will randomly select a varying amount of data samples from the training data set. To have the same reference, we will always work with the same validation data set. As above, we will save the results in a structure to later plot them:"
   ]
  },
  {
   "cell_type": "code",
   "execution_count": null,
   "metadata": {},
   "outputs": [],
   "source": [
    "from numpy.random import random_sample\n",
    "\n",
    "np.random.seed(42)"
   ]
  },
  {
   "cell_type": "code",
   "execution_count": null,
   "metadata": {},
   "outputs": [],
   "source": [
    "n_train_all = X_train_scaled.shape[0]\n",
    "training_sample_counts = [ 2, 5, 10, 100, 1000, 10000 ]\n",
    "\n",
    "all_model_results = pd.DataFrame()\n",
    "\n",
    "for n_train in training_sample_counts:\n",
    "    # randomly sample the required number of indices\n",
    "    print('Using ' + str(n_train) + ' samples for training')\n",
    "    my_train_idx = np.random.choice(range(n_train_all), size=n_train, replace=False)\n",
    "\n",
    "    # select the respective training data points from the training data set (X and y):\n",
    "    my_X_train = X_train_scaled.iloc[my_train_idx]\n",
    "    my_y_train = y_train.iloc[my_train_idx]\n",
    "\n",
    "    # for model_type in model_list:\n",
    "    # instantiate model\n",
    "    model = LinearRegression()\n",
    "    \n",
    "    # train and evaluate model performance\n",
    "    all_features_results = train_apply_eval_model(model, my_X_train, my_y_train, X_val_scaled, y_val, model_name='linear', do_print=False)\n",
    "    all_features_results['n_train'] = n_train\n",
    "\n",
    "    # add the result data frame to the overall data frame\n",
    "    all_model_results = pd.concat([all_model_results, all_features_results])    "
   ]
  },
  {
   "cell_type": "markdown",
   "metadata": {},
   "source": [
    "Now we can plot the model performance for the varying number of training data samples:"
   ]
  },
  {
   "cell_type": "code",
   "execution_count": null,
   "metadata": {},
   "outputs": [],
   "source": [
    "# Plotting the results\n",
    "metrics =['r2_score', 'RMS']\n",
    "\n",
    "# Create a figure with subplots\n",
    "fig, axs = plt.subplots(1, 2, figsize=(10, 5))\n",
    "\n",
    "for i, metric in enumerate(metrics):\n",
    "    sns.barplot(data=all_model_results, x='n_train', y=metric, hue='dataset', ax=axs[i])\n",
    "    axs[i].tick_params(axis='x', rotation=45)\n",
    "    axs[i].set_xlabel('Training Set Size')\n",
    "    axs[i].legend(loc='lower center')\n",
    "    axs[i].grid()\n",
    "\n",
    "fig.suptitle('Model Performance depending on Training Data Size\\nUnregularized Linear Regression', fontsize=\"x-large\")\n",
    "plt.tight_layout()\n",
    "plt.show()"
   ]
  },
  {
   "cell_type": "markdown",
   "metadata": {},
   "source": [
    "**EXERCISE**: Interpret the plots above. What could explain the performance difference between the different training set sizes? Why do the performance values for training and validation set look so different, and also behave differently over the training set size?\n",
    "\n",
    "*Hint - Advanced:* You might also want to re-run the last two cells (the two cells *after* the cell containing `np.random.seed(42)`) a few times. Can you interpret it?"
   ]
  },
  {
   "cell_type": "code",
   "execution_count": null,
   "metadata": {},
   "outputs": [],
   "source": [
    "only_carat_results"
   ]
  },
  {
   "cell_type": "markdown",
   "metadata": {},
   "source": [
    "**SOLUTION:**\n",
    "\n",
    "..."
   ]
  },
  {
   "cell_type": "markdown",
   "metadata": {},
   "source": [
    "In order to get a better understanding of the variability of the results, we sample multiple training data sets from the overall dataset, which will then allow us to get a grasp of the variance:"
   ]
  },
  {
   "cell_type": "code",
   "execution_count": null,
   "metadata": {},
   "outputs": [],
   "source": [
    "np.random.seed(42)\n",
    "\n",
    "number_of_samplings = 10\n",
    "\n",
    "n_train_all = X_train_scaled.shape[0]\n",
    "training_sample_counts = [ 2, 5, 10, 100, 1000, 10000 ]\n",
    "\n",
    "all_linear_params = pd.DataFrame()\n",
    "all_linear_results = pd.DataFrame()\n",
    "\n",
    "for n_train in training_sample_counts:\n",
    "    print('Using ' + str(n_train) + ' samples for training')\n",
    "\n",
    "    for iter in range(number_of_samplings):\n",
    "        # randomly sample the required number of indices\n",
    "        my_train_idx = np.random.choice(range(n_train_all), size=n_train, replace=False)\n",
    "\n",
    "        # select the respective training data points from the training data set (X and y):\n",
    "        my_X_train = X_train_scaled.iloc[my_train_idx]\n",
    "        my_y_train = y_train.iloc[my_train_idx]\n",
    "    \n",
    "        # instantiate model\n",
    "        linear_model = LinearRegression()\n",
    "        \n",
    "        # train and evaluate model performance\n",
    "        all_features_result_linear = train_apply_eval_model(linear_model, my_X_train, my_y_train,\n",
    "                                                            X_val_scaled, y_val, model_name='linear', do_print=False)\n",
    "\n",
    "        # book-keeping\n",
    "        all_features_result_linear['n_train'] = n_train\n",
    "        all_features_result_linear['iter'] = iter\n",
    "        \n",
    "        # add the result data frame to the overall data frame\n",
    "        all_linear_results = pd.concat([all_linear_results, all_features_result_linear])    \n",
    "\n",
    "        # add the model parameters to the model parameter structure\n",
    "        my_params = pd.DataFrame(linear_model.coef_, columns=['carat', 'x', 'y', 'z', 'table', 'depth'])\n",
    "        my_params['n_train'] = n_train\n",
    "        my_params['iter'] = iter\n",
    "\n",
    "        all_linear_params = pd.concat([all_linear_params, my_params])"
   ]
  },
  {
   "cell_type": "markdown",
   "metadata": {},
   "source": [
    "To plot the results, we now use a boxplot. This allows us to see the \"average\" spreading of the results, as well as the outliers:"
   ]
  },
  {
   "cell_type": "code",
   "execution_count": null,
   "metadata": {},
   "outputs": [],
   "source": [
    "# Plotting the results\n",
    "metrics =['r2_score', 'RMS']\n",
    "\n",
    "# Create a figure with subplots\n",
    "fig, axs = plt.subplots(1, 2, figsize=(10, 5))\n",
    "\n",
    "for i, metric in enumerate(metrics):\n",
    "    sns.boxplot(data=all_linear_results, x='n_train', y=metric, hue='dataset', ax=axs[i])\n",
    "    axs[i].tick_params(axis='x', rotation=45)\n",
    "    axs[i].set_xlabel('Training Set Size')\n",
    "    axs[i].grid()\n",
    "\n",
    "fig.suptitle('Model Performance depending on Training Data Size\\nUnregularized Linear Regression', fontsize=\"x-large\")\n",
    "plt.tight_layout()\n",
    "plt.show()"
   ]
  },
  {
   "cell_type": "code",
   "execution_count": null,
   "metadata": {},
   "outputs": [],
   "source": [
    "all_linear_params_long = pd.melt(all_linear_params, id_vars=['n_train', 'iter'], value_vars = ['carat', 'x', 'y', 'z', 'table', 'depth'])"
   ]
  },
  {
   "cell_type": "code",
   "execution_count": null,
   "metadata": {},
   "outputs": [],
   "source": [
    "all_linear_params_long"
   ]
  },
  {
   "cell_type": "code",
   "execution_count": null,
   "metadata": {},
   "outputs": [],
   "source": [
    "sns.boxplot(data=all_linear_params_long, x='n_train', y='value', hue='variable')"
   ]
  },
  {
   "cell_type": "markdown",
   "metadata": {},
   "source": [
    "**EXERCISE**: Review the interpreation above based on the plots above. Can you relate the results to the idea of bias and variance discussed in class?"
   ]
  },
  {
   "cell_type": "markdown",
   "metadata": {},
   "source": [
    "**SOLUTION:**\n",
    "\n",
    "..."
   ]
  },
  {
   "cell_type": "markdown",
   "metadata": {},
   "source": [
    "Next, we want to compare the linear regression with a lasso model under the same settings.\n",
    "\n",
    "**EXERCISE**: Adapt the above two cells (the one with the sampling, and the one with the plotting) to a lasso model. **You only have to change a few lines for this**.\n",
    "\n",
    "*Hints:*\n",
    "* Recall that in `scikit-learn`, all models have the same interface. For example, they all have a `fit` and a `predict` function. Therefore, you can use `train_apply_eval_model` for your lasso model as we did above for the linear regression model.\n",
    "* Remeber that for lasso, there is a hyperparameter (called `alpha`) that we need to optimize. This needs to be done *before* we can do a usefull evaluation of the model, i.e. before we call `train_apply_eval_model`. We have done this already earlier in this notebook - hence, browse upwards for inspiration.\n",
    "* Finally, more on a programming style level: Above we have named the variables that are specific to the linear models with a name that contains `linear`. We recommend you modify these variable names to sharpen your understanding and improve the clarity of the program code.\n",
    "\n",
    "**Note**: You might get a convergence warning (something like `ConvergenceWarning: Objective did not converge. You might want to increase the number of iterations, check the scale of the features or consider increasing regularisation. Duality gap: 3.297e+10, tolerance: 5.518e+07`, with numbers potentially different). This means that the optimization algorithm did not find a good solution. As mentioned in the warning message, a higher regularization can help here. As we are searching for the best hyperparameter, we can assume that the candidate values for which these messages occurr are not yielding a good results and will therefore be discarded. To avoid cluttering of the output, we switch off the display of convergence warnings with the cell below:"
   ]
  },
  {
   "cell_type": "code",
   "execution_count": null,
   "metadata": {},
   "outputs": [],
   "source": [
    "from warnings import simplefilter\n",
    "from sklearn.exceptions import ConvergenceWarning\n",
    "simplefilter(\"ignore\", category=ConvergenceWarning)"
   ]
  },
  {
   "cell_type": "code",
   "execution_count": null,
   "metadata": {},
   "outputs": [],
   "source": [
    "# put your code here:\n",
    "# ..."
   ]
  },
  {
   "cell_type": "markdown",
   "metadata": {},
   "source": [
    "As a further illustration, we generate a boxplot of the estimated coefficients for the different parameters for different numbers of training data. For better comparability, and as lasso was not trained with less than 10 training data samples, we omit these cases also for the linear regression:"
   ]
  },
  {
   "cell_type": "code",
   "execution_count": null,
   "metadata": {},
   "outputs": [],
   "source": [
    "all_linear_params_long = pd.melt(all_linear_params, id_vars=['n_train', 'iter'], value_vars = ['carat', 'x', 'y', 'z', 'table', 'depth'])\n",
    "sns.boxplot(data=all_linear_params_long[all_linear_params_long['n_train']>5], x='n_train', y='value', hue='variable')"
   ]
  },
  {
   "cell_type": "code",
   "execution_count": null,
   "metadata": {},
   "outputs": [],
   "source": [
    "all_lasso_params_long = pd.melt(all_lasso_params, id_vars=['n_train', 'iter'], value_vars = ['carat', 'x', 'y', 'z', 'table', 'depth'])\n",
    "sns.boxplot(data=all_lasso_params_long, x='n_train', y='value', hue='variable')"
   ]
  },
  {
   "cell_type": "markdown",
   "metadata": {},
   "source": [
    "For small training set sizes, the estimated parameter coefficients vary much more in the unrestricted linear regression model (note the difference in the y-axis scale!), leading to very different models. This also explains the vast performance variation. As more training data gets available, the variation in the coefficients decreases."
   ]
  },
  {
   "cell_type": "markdown",
   "metadata": {
    "id": "RqknNgz8lXv0"
   },
   "source": [
    "## Multiple Polynomial Regression\n",
    "\n",
    "In this last part of the notebook, we will fit a model using multiple polynomial regression. We will be generating the polynomial features using the `PolynomialFeatures` class that you have already seen in the practice notebook. Unlike there, we here use it with multiple features (and not only one, as we did when working with synthetic data). In this case, `PolynomialFeatures` will also create all mixed terms up to the given degree. For example, `PolynomialFeatures(degree=3)` will generate the features `carat`, `carat^2` and `carat^3` as well as `x`, `x^2` and `x^3`, but also `carat x` (the product of `carat` and `x`), `carat^2 x` (the product of `carat^2` and `x`) and `carat x^2` (the product of `carat` and `x^2`). \n",
    "\n",
    "The code below loops over the maximum degree of the polynomial up to `maxdegree` and applies the corresponding feature transformation. It then trains and evaluates the 3 different regression models on these features: linear regression, lasso and ridge regression. For the latter two, the optimal hyperparameter values are searched using `GridSearchCV`. The performance of the model on both training and validation data sets, as well as the paramters of each model are stored for later analysis.\n",
    "\n",
    "*Note*: If you want, you can increase `maxdegree` in the code cell below. However, this will make this cell run much longer. More precisely, the number of parameters resulting from the polynomial feature transformation is $(n_{feat})^{degree}$ if you have $n_{feat}$ features initially and build polynomials up to degree $degree$. We have $n_{feat}=6$ features. So, if you increase `maxdegree` by 1, the cell below will take at least 6 times longer to run. On my (Andreas') laptop, the below cell takes a good minute to run. We add some time measurement."
   ]
  },
  {
   "cell_type": "markdown",
   "metadata": {},
   "source": [
    "**DEMO EXERCISE**"
   ]
  },
  {
   "cell_type": "code",
   "execution_count": null,
   "metadata": {},
   "outputs": [],
   "source": [
    "import time\n",
    "from sklearn.preprocessing import PolynomialFeatures"
   ]
  },
  {
   "cell_type": "code",
   "execution_count": null,
   "metadata": {
    "scrolled": true
   },
   "outputs": [],
   "source": [
    "maxdegree = 2\n",
    "\n",
    "alpha_range = [ 0.1, 0.3, 1, 3, 10, 30, 100]\n",
    "model_list = ['linear', 'lasso', 'ridge']\n",
    "\n",
    "all_results_poly = pd.DataFrame()\n",
    "all_params_poly = pd.DataFrame()\n",
    "\n",
    "for polydeg in range(1, maxdegree+1):\n",
    "    # Create polynomial features\n",
    "    print('***********')\n",
    "    print('preparing polynomial features of degree ', polydeg)\n",
    "    poly_features = PolynomialFeatures(degree=polydeg)\n",
    "    poly_features.fit(X_train)\n",
    "    \n",
    "    X_train_poly = poly_features.transform(X_train)\n",
    "    X_val_poly = poly_features.transform(X_val)\n",
    "\n",
    "    # scaling\n",
    "    poly_scaler = StandardScaler()\n",
    "    poly_scaler.fit(X_train_poly)\n",
    "    \n",
    "    X_train_poly_scaled = poly_scaler.transform(X_train_poly)\n",
    "    X_val_poly_scaled  = poly_scaler.transform(X_val_poly)\n",
    "\n",
    "    # generating names of polynomial features\n",
    "    poly_names = poly_features.get_feature_names_out(X_train_scaled.columns)\n",
    "    X_train_poly_scaled = pd.DataFrame(X_train_poly_scaled, columns = poly_names)\n",
    "    X_val_poly_scaled = pd.DataFrame(X_val_poly_scaled, columns = poly_names)\n",
    "\n",
    "    # run training, parameter optimization and evaluation over the 3 model types.\n",
    "    # we do a loop here, as most of the code would have to be copied otherwise.\n",
    "    for model_type in model_list:\n",
    "        if model_type == 'linear':\n",
    "            # linear model: we only need to initialize it.\n",
    "            model_name = model_type\n",
    "            print('Initializing linear model')\n",
    "            model = LinearRegression()\n",
    "        else:\n",
    "            # for the other two models (i.e., lasso and ridge):\n",
    "            # we need to tune the hyperparameters.\n",
    "            if model_type == 'lasso':\n",
    "                model = Lasso()\n",
    "            else:\n",
    "                model = Ridge()\n",
    "\n",
    "            # Find optimal value of hyperparameter \n",
    "            # Note this is done in the same way for lasso and for ridge regression\n",
    "            print('Fining optimal hyperparameter value for', model_type)\n",
    "            time_start = time.time()\n",
    "            grid_search = GridSearchCV(model, param_grid = {'alpha': alpha_range}, scoring='r2')\n",
    "            grid_search.fit(X_train_poly_scaled, y_train)\n",
    "            \n",
    "            # Get the best hyperparameter\n",
    "            best_alpha = grid_search.best_params_['alpha']\n",
    "            time_end = time.time()\n",
    "            print(f'-> optimization took {(time_end - time_start):.2f} seconds.')\n",
    "            print(f'-> Best alpha value: {best_alpha}')\n",
    "                        \n",
    "            # initialize the model with the best hyperparameter we just found.\n",
    "            \n",
    "            if model_type == 'lasso':\n",
    "                model = Lasso(alpha=best_alpha)\n",
    "            else:\n",
    "                model = Ridge(alpha=best_alpha)\n",
    "            model_name = model_type + ', alpha=' + str(best_alpha)\n",
    "\n",
    "        # here the if-else condition is over, i.e. we do this for all three models.\n",
    "        # main training and evaluation, using the function train_apply_eval_model we have used before.\n",
    "        model_name = model_name + ', features degree ' + str(polydeg)\n",
    "        time_start = time.time()\n",
    "        results = train_apply_eval_model(model, X_train_poly_scaled, y_train, \n",
    "                                         X_val_poly_scaled, y_val, model_name=model_name, do_print=False)\n",
    "        all_results_poly = pd.concat([all_results_poly, results])\n",
    "        time_end = time.time()\n",
    "        print(f'-> training and evaluation took {(time_end - time_start):.2f} seconds.\\n')\n",
    "\n",
    "        # save model parameters:\n",
    "        my_params = pd.DataFrame(np.reshape(model.coef_, (1, -1)), columns=X_train_poly_scaled.columns)\n",
    "        my_params['model_name'] = model_name\n",
    "        my_params['model_type'] = model_type\n",
    "        my_params['degree'] = polydeg\n",
    "        my_params_long = pd.melt(my_params, id_vars=['model_name', 'model_type', 'degree'])\n",
    "        all_params_poly = pd.concat([all_params_poly, my_params_long])"
   ]
  },
  {
   "cell_type": "markdown",
   "metadata": {},
   "source": [
    "The code below plots the non-zero coefficients for the lasso model for all degrees that were calculated (i.e., depending on your choice of `maxdegree` above):"
   ]
  },
  {
   "cell_type": "code",
   "execution_count": null,
   "metadata": {},
   "outputs": [],
   "source": [
    "for polydeg in range(1, maxdegree+1):\n",
    "    for model_name in ['linear', 'lasso', 'ridge']:\n",
    "        rel_params = all_params_poly[(all_params_poly['model_type']==model_name) & (all_params_poly['degree']==polydeg)]\n",
    "        visualize_coefficients(rel_params['value'], rel_params['variable'], model_name=rel_params['model_name'][0])"
   ]
  },
  {
   "cell_type": "markdown",
   "metadata": {},
   "source": [
    "**EXERCISE**: What do you observe when looking at the model parameters?"
   ]
  },
  {
   "cell_type": "markdown",
   "metadata": {},
   "source": [
    "**SOLUTION:**\n",
    "\n",
    "..."
   ]
  },
  {
   "cell_type": "markdown",
   "metadata": {},
   "source": [
    "Using the same graphics as you already know, we visualize the performance of the different models:"
   ]
  },
  {
   "cell_type": "code",
   "execution_count": null,
   "metadata": {},
   "outputs": [],
   "source": [
    "# Plotting the results\n",
    "metrics =['r2_score', 'RMS']\n",
    "\n",
    "# Create a figure with subplots\n",
    "fig, axs = plt.subplots(1, 2, figsize=(10, 3))\n",
    "\n",
    "for i, metric in enumerate(metrics):\n",
    "    sns.barplot(data=all_results_poly, y='model_name', x=metric, hue='dataset', ax=axs[i])\n",
    "    axs[i].legend(loc='lower center')\n",
    "    axs[i].grid()\n",
    "\n",
    "plt.tight_layout()\n",
    "plt.show()"
   ]
  },
  {
   "cell_type": "code",
   "execution_count": null,
   "metadata": {},
   "outputs": [],
   "source": [
    "all_results_poly"
   ]
  },
  {
   "cell_type": "markdown",
   "metadata": {},
   "source": [
    "**EXERCISE:** Among the models listed above, which one do you choose to automatically predict the diamond price? What steps would be necessary to give a dependable estimate of the model performance on new data (you don't have to program it)? Explain why this step is necessary."
   ]
  },
  {
   "cell_type": "code",
   "execution_count": null,
   "metadata": {},
   "outputs": [],
   "source": []
  }
 ],
 "metadata": {
  "colab": {
   "provenance": [],
   "toc_visible": true
  },
  "kernelspec": {
   "display_name": "Python 3 (ipykernel)",
   "language": "python",
   "name": "python3"
  },
  "language_info": {
   "codemirror_mode": {
    "name": "ipython",
    "version": 3
   },
   "file_extension": ".py",
   "mimetype": "text/x-python",
   "name": "python",
   "nbconvert_exporter": "python",
   "pygments_lexer": "ipython3",
   "version": "3.11.9"
  },
  "widgets": {
   "application/vnd.jupyter.widget-state+json": {
    "3835273eab7e4d61b0a7203c4340ae37": {
     "model_module": "@jupyter-widgets/output",
     "model_module_version": "1.0.0",
     "model_name": "OutputModel",
     "state": {
      "_dom_classes": [],
      "_model_module": "@jupyter-widgets/output",
      "_model_module_version": "1.0.0",
      "_model_name": "OutputModel",
      "_view_count": null,
      "_view_module": "@jupyter-widgets/output",
      "_view_module_version": "1.0.0",
      "_view_name": "OutputView",
      "layout": "IPY_MODEL_b7667c1d935c4f25844efc52905c28c5",
      "msg_id": "",
      "outputs": [
       {
        "data": {
         "image/png": "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\n",
         "text/plain": "<Figure size 2000x1000 with 8 Axes>"
        },
        "metadata": {},
        "output_type": "display_data"
       }
      ]
     }
    },
    "76d48c4b22bd4fc0acabd73fd48cb591": {
     "model_module": "@jupyter-widgets/controls",
     "model_module_version": "1.5.0",
     "model_name": "VBoxModel",
     "state": {
      "_dom_classes": [
       "widget-interact"
      ],
      "_model_module": "@jupyter-widgets/controls",
      "_model_module_version": "1.5.0",
      "_model_name": "VBoxModel",
      "_view_count": null,
      "_view_module": "@jupyter-widgets/controls",
      "_view_module_version": "1.5.0",
      "_view_name": "VBoxView",
      "box_style": "",
      "children": [
       "IPY_MODEL_932fbce3d4c44f10854d5ecd92b9d712",
       "IPY_MODEL_3835273eab7e4d61b0a7203c4340ae37"
      ],
      "layout": "IPY_MODEL_b94e5845c5e74a708ce6715bf3132685"
     }
    },
    "8de0a949ec3d49a8a21ea6cf7ca20cb5": {
     "model_module": "@jupyter-widgets/controls",
     "model_module_version": "1.5.0",
     "model_name": "DescriptionStyleModel",
     "state": {
      "_model_module": "@jupyter-widgets/controls",
      "_model_module_version": "1.5.0",
      "_model_name": "DescriptionStyleModel",
      "_view_count": null,
      "_view_module": "@jupyter-widgets/base",
      "_view_module_version": "1.2.0",
      "_view_name": "StyleView",
      "description_width": ""
     }
    },
    "932fbce3d4c44f10854d5ecd92b9d712": {
     "model_module": "@jupyter-widgets/controls",
     "model_module_version": "1.5.0",
     "model_name": "DropdownModel",
     "state": {
      "_dom_classes": [],
      "_model_module": "@jupyter-widgets/controls",
      "_model_module_version": "1.5.0",
      "_model_name": "DropdownModel",
      "_options_labels": [
       "Model 1",
       "Model 2",
       "Model 3",
       "Model 4"
      ],
      "_view_count": null,
      "_view_module": "@jupyter-widgets/controls",
      "_view_module_version": "1.5.0",
      "_view_name": "DropdownView",
      "description": "Select Model:",
      "description_tooltip": null,
      "disabled": false,
      "index": 0,
      "layout": "IPY_MODEL_c4397c66c2de4225b1d9aab54fbfd1be",
      "style": "IPY_MODEL_8de0a949ec3d49a8a21ea6cf7ca20cb5"
     }
    },
    "b7667c1d935c4f25844efc52905c28c5": {
     "model_module": "@jupyter-widgets/base",
     "model_module_version": "1.2.0",
     "model_name": "LayoutModel",
     "state": {
      "_model_module": "@jupyter-widgets/base",
      "_model_module_version": "1.2.0",
      "_model_name": "LayoutModel",
      "_view_count": null,
      "_view_module": "@jupyter-widgets/base",
      "_view_module_version": "1.2.0",
      "_view_name": "LayoutView",
      "align_content": null,
      "align_items": null,
      "align_self": null,
      "border": null,
      "bottom": null,
      "display": null,
      "flex": null,
      "flex_flow": null,
      "grid_area": null,
      "grid_auto_columns": null,
      "grid_auto_flow": null,
      "grid_auto_rows": null,
      "grid_column": null,
      "grid_gap": null,
      "grid_row": null,
      "grid_template_areas": null,
      "grid_template_columns": null,
      "grid_template_rows": null,
      "height": null,
      "justify_content": null,
      "justify_items": null,
      "left": null,
      "margin": null,
      "max_height": null,
      "max_width": null,
      "min_height": null,
      "min_width": null,
      "object_fit": null,
      "object_position": null,
      "order": null,
      "overflow": null,
      "overflow_x": null,
      "overflow_y": null,
      "padding": null,
      "right": null,
      "top": null,
      "visibility": null,
      "width": null
     }
    },
    "b94e5845c5e74a708ce6715bf3132685": {
     "model_module": "@jupyter-widgets/base",
     "model_module_version": "1.2.0",
     "model_name": "LayoutModel",
     "state": {
      "_model_module": "@jupyter-widgets/base",
      "_model_module_version": "1.2.0",
      "_model_name": "LayoutModel",
      "_view_count": null,
      "_view_module": "@jupyter-widgets/base",
      "_view_module_version": "1.2.0",
      "_view_name": "LayoutView",
      "align_content": null,
      "align_items": null,
      "align_self": null,
      "border": null,
      "bottom": null,
      "display": null,
      "flex": null,
      "flex_flow": null,
      "grid_area": null,
      "grid_auto_columns": null,
      "grid_auto_flow": null,
      "grid_auto_rows": null,
      "grid_column": null,
      "grid_gap": null,
      "grid_row": null,
      "grid_template_areas": null,
      "grid_template_columns": null,
      "grid_template_rows": null,
      "height": null,
      "justify_content": null,
      "justify_items": null,
      "left": null,
      "margin": null,
      "max_height": null,
      "max_width": null,
      "min_height": null,
      "min_width": null,
      "object_fit": null,
      "object_position": null,
      "order": null,
      "overflow": null,
      "overflow_x": null,
      "overflow_y": null,
      "padding": null,
      "right": null,
      "top": null,
      "visibility": null,
      "width": null
     }
    },
    "c4397c66c2de4225b1d9aab54fbfd1be": {
     "model_module": "@jupyter-widgets/base",
     "model_module_version": "1.2.0",
     "model_name": "LayoutModel",
     "state": {
      "_model_module": "@jupyter-widgets/base",
      "_model_module_version": "1.2.0",
      "_model_name": "LayoutModel",
      "_view_count": null,
      "_view_module": "@jupyter-widgets/base",
      "_view_module_version": "1.2.0",
      "_view_name": "LayoutView",
      "align_content": null,
      "align_items": null,
      "align_self": null,
      "border": null,
      "bottom": null,
      "display": null,
      "flex": null,
      "flex_flow": null,
      "grid_area": null,
      "grid_auto_columns": null,
      "grid_auto_flow": null,
      "grid_auto_rows": null,
      "grid_column": null,
      "grid_gap": null,
      "grid_row": null,
      "grid_template_areas": null,
      "grid_template_columns": null,
      "grid_template_rows": null,
      "height": null,
      "justify_content": null,
      "justify_items": null,
      "left": null,
      "margin": null,
      "max_height": null,
      "max_width": null,
      "min_height": null,
      "min_width": null,
      "object_fit": null,
      "object_position": null,
      "order": null,
      "overflow": null,
      "overflow_x": null,
      "overflow_y": null,
      "padding": null,
      "right": null,
      "top": null,
      "visibility": null,
      "width": null
     }
    }
   }
  }
 },
 "nbformat": 4,
 "nbformat_minor": 4
}
